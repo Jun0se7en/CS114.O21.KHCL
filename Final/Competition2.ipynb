{
 "cells": [
  {
   "cell_type": "markdown",
   "id": "b83c10d1-2e7b-478f-8aa6-e1088292d3d3",
   "metadata": {},
   "source": [
    "# **Import Libraries**"
   ]
  },
  {
   "cell_type": "code",
   "execution_count": 1,
   "id": "980b4e92-63f5-43a3-9941-a553e7f07458",
   "metadata": {
    "tags": []
   },
   "outputs": [],
   "source": [
    "import matplotlib.pyplot as plt\n",
    "from sklearn import linear_model\n",
    "import numpy as np\n",
    "from sklearn.metrics import mean_squared_error, r2_score\n",
    "import pandas as pd\n",
    "from sklearn import preprocessing\n",
    "import json\n",
    "import ast"
   ]
  },
  {
   "cell_type": "markdown",
   "id": "51330cf4-30f3-4c39-9737-fff90550877f",
   "metadata": {},
   "source": [
    "# **Read CSV**"
   ]
  },
  {
   "cell_type": "code",
   "execution_count": 2,
   "id": "758b1630-e2ca-4f26-904a-9d96a4c6577b",
   "metadata": {
    "tags": []
   },
   "outputs": [],
   "source": [
    "df = pd.read_csv('./annonimized.csv')\n",
    "df1 = pd.read_csv('./qt-public.csv')\n",
    "df2 = pd.read_csv('./th-public.csv')\n",
    "df3 = pd.read_csv('./ck-public.csv')\n",
    "df4 = pd.read_excel(\"./tbtl-public.ods\", engine=\"odf\")"
   ]
  },
  {
   "cell_type": "markdown",
   "id": "61a94f80-ce89-4563-9048-6f2436a229cd",
   "metadata": {},
   "source": [
    "# **Preprocessing**"
   ]
  },
  {
   "cell_type": "code",
   "execution_count": 3,
   "id": "ecea2ceb-79d3-42eb-832a-b2aa32e4958e",
   "metadata": {
    "tags": []
   },
   "outputs": [],
   "source": [
    "df.rename(columns={\"concat('it001',`assignment_id`)\": \"assignment_id\",\n",
    "                   \"concat('it001',`problem_id`)\": \"problem_id\",\n",
    "                  \"concat('it001', username)\": \"username\",\n",
    "                  \"concat('it001',`language_id`)\": \"language_id\",},\n",
    "          inplace=True, errors='raise')"
   ]
  },
  {
   "cell_type": "code",
   "execution_count": 4,
   "id": "a928edef-54db-405b-98ed-52f7be3bff06",
   "metadata": {
    "tags": []
   },
   "outputs": [],
   "source": [
    "df1.rename(columns={\"hash\": \"username\",\n",
    "                   \"diemqt\": \"QT\",},\n",
    "          inplace=True, errors='raise')"
   ]
  },
  {
   "cell_type": "code",
   "execution_count": 5,
   "id": "40ae7fa3-eeb0-427c-ab23-65b2dc80c810",
   "metadata": {
    "tags": []
   },
   "outputs": [],
   "source": [
    "df2.rename(columns={\"hash\": \"username\",},\n",
    "          inplace=True, errors='raise')"
   ]
  },
  {
   "cell_type": "code",
   "execution_count": 6,
   "id": "94b0415b-9794-4c3a-a781-b51acd291654",
   "metadata": {
    "tags": []
   },
   "outputs": [],
   "source": [
    "df3.rename(columns={\"hash\": \"username\",},\n",
    "          inplace=True, errors='raise')"
   ]
  },
  {
   "cell_type": "code",
   "execution_count": 7,
   "id": "c457b32d-7e7d-42d1-a6ba-457616dc11be",
   "metadata": {
    "tags": []
   },
   "outputs": [],
   "source": [
    "# Fill các ô không có giá trị bằng điểm 0\n",
    "df1['QT'] = df1['QT'].fillna(0)\n",
    "df2['TH'] = df2['TH'].fillna(0)\n",
    "df3['CK'] = df3['CK'].fillna(0)\n",
    "df4['TBTL'] = df4['TBTL'].fillna(0)"
   ]
  },
  {
   "cell_type": "code",
   "execution_count": 8,
   "id": "59489e44-6373-4dba-a12a-ebdffa7c8ffc",
   "metadata": {
    "tags": []
   },
   "outputs": [],
   "source": [
    "df['coefficient'] = df['coefficient'] / 100"
   ]
  },
  {
   "cell_type": "code",
   "execution_count": 9,
   "id": "0a5af4c4-7b8b-4864-9183-81b6790b8ab3",
   "metadata": {
    "tags": []
   },
   "outputs": [],
   "source": [
    "df['scores'] = df['pre_score'] * df['coefficient']"
   ]
  },
  {
   "cell_type": "code",
   "execution_count": 10,
   "id": "68e86c45-141f-4d32-802b-9c1c667d54e1",
   "metadata": {
    "tags": []
   },
   "outputs": [],
   "source": [
    "average_runtimes = []\n",
    "max_runtimes = []\n",
    "min_runtimes = []\n",
    "sum_runtimes = []\n",
    "average_memories = []\n",
    "max_memories = []\n",
    "min_memories = []\n",
    "sum_memories = []\n",
    "for i in df['judgement']:\n",
    "    try:\n",
    "        tmp = ast.literal_eval(i)\n",
    "        if len(tmp[\"times\"]) > 0:\n",
    "            sum_runtimes.append(np.sum(tmp['times']))\n",
    "            max_runtimes.append(np.max(tmp['times']))\n",
    "            min_runtimes.append(np.min(tmp['times']))\n",
    "            average_runtimes.append(np.average(tmp['times']))\n",
    "        else:\n",
    "            sum_runtimes.append(np.inf)\n",
    "            max_runtimes.append(np.inf)\n",
    "            min_runtimes.append(np.inf)\n",
    "            average_runtimes.append(np.inf)\n",
    "        if len(tmp[\"mems\"]) > 0:\n",
    "            sum_memories.append(np.sum(tmp[\"mems\"]))\n",
    "            max_memories.append(np.max(tmp[\"mems\"]))\n",
    "            min_memories.append(np.min(tmp[\"mems\"]))\n",
    "            average_memories.append(np.average(tmp[\"mems\"]))\n",
    "        else:\n",
    "            sum_memories.append(np.inf)\n",
    "            max_memories.append(np.inf)\n",
    "            min_memories.append(np.inf)\n",
    "            average_memories.append(np.inf)\n",
    "    except:\n",
    "        sum_runtimes.append(np.inf)\n",
    "        max_runtimes.append(np.inf)\n",
    "        min_runtimes.append(np.inf)\n",
    "        average_runtimes.append(np.inf)\n",
    "        sum_memories.append(np.inf)\n",
    "        max_memories.append(np.inf)\n",
    "        min_memories.append(np.inf)\n",
    "        average_memories.append(np.inf)\n",
    "df['sum_runtimes'] = sum_runtimes\n",
    "df['max_runtimes'] = max_runtimes\n",
    "df['min_runtimes'] = min_runtimes\n",
    "df['average_runtimes'] = average_runtimes\n",
    "df['average_memories'] = average_memories\n",
    "df['max_memories'] = max_memories\n",
    "df['min_memories'] = min_memories\n",
    "df['sum_memories'] = sum_memories\n",
    "# Chuyển đổi cột `created_at` và `updated_at` thành số giây kể từ mốc thời gian cố định\n",
    "df['created_at'] = '2024-' + df['created_at']\n",
    "df['updated_at'] = '2024-' + df['updated_at']\n",
    "df['created_at'] = pd.to_datetime(df['created_at'], format='%Y-%m-%d %H:%M:%S').apply(lambda x: x.timestamp())\n",
    "df['updated_at'] = pd.to_datetime(df['updated_at'], format='%Y-%m-%d %H:%M:%S').apply(lambda x: x.timestamp())\n",
    "df['waiting_time'] = df['updated_at'] - df['created_at']"
   ]
  },
  {
   "cell_type": "code",
   "execution_count": 11,
   "id": "fc2e6d11-3694-4007-ba41-8c599787cbc6",
   "metadata": {
    "tags": []
   },
   "outputs": [],
   "source": [
    "df.drop(['pre_score', 'coefficient', 'judgement', 'created_at', 'updated_at'], axis = 1, inplace = True) "
   ]
  },
  {
   "cell_type": "code",
   "execution_count": 12,
   "id": "7dc45723-1928-4096-8cda-2289fd120318",
   "metadata": {
    "tags": []
   },
   "outputs": [
    {
     "data": {
      "text/html": [
       "<div>\n",
       "<style scoped>\n",
       "    .dataframe tbody tr th:only-of-type {\n",
       "        vertical-align: middle;\n",
       "    }\n",
       "\n",
       "    .dataframe tbody tr th {\n",
       "        vertical-align: top;\n",
       "    }\n",
       "\n",
       "    .dataframe thead th {\n",
       "        text-align: right;\n",
       "    }\n",
       "</style>\n",
       "<table border=\"1\" class=\"dataframe\">\n",
       "  <thead>\n",
       "    <tr style=\"text-align: right;\">\n",
       "      <th></th>\n",
       "      <th>assignment_id</th>\n",
       "      <th>problem_id</th>\n",
       "      <th>username</th>\n",
       "      <th>is_final</th>\n",
       "      <th>status</th>\n",
       "      <th>language_id</th>\n",
       "      <th>scores</th>\n",
       "      <th>sum_runtimes</th>\n",
       "      <th>max_runtimes</th>\n",
       "      <th>min_runtimes</th>\n",
       "      <th>average_runtimes</th>\n",
       "      <th>average_memories</th>\n",
       "      <th>max_memories</th>\n",
       "      <th>min_memories</th>\n",
       "      <th>sum_memories</th>\n",
       "      <th>waiting_time</th>\n",
       "    </tr>\n",
       "  </thead>\n",
       "  <tbody>\n",
       "    <tr>\n",
       "      <th>0</th>\n",
       "      <td>90ce27571176d87961b565d5ef4b3de33ede04ac</td>\n",
       "      <td>789454427dd4097a14749e3dde63346b7a8d3811</td>\n",
       "      <td>ed9eaeb6a707f50154024b24d7efcb874a9795dd</td>\n",
       "      <td>0</td>\n",
       "      <td>SCORE</td>\n",
       "      <td>it0012</td>\n",
       "      <td>0.0</td>\n",
       "      <td>0.0</td>\n",
       "      <td>0.0</td>\n",
       "      <td>0.0</td>\n",
       "      <td>0.0</td>\n",
       "      <td>0.0</td>\n",
       "      <td>0.0</td>\n",
       "      <td>0.0</td>\n",
       "      <td>0.0</td>\n",
       "      <td>294.0</td>\n",
       "    </tr>\n",
       "    <tr>\n",
       "      <th>1</th>\n",
       "      <td>90ce27571176d87961b565d5ef4b3de33ede04ac</td>\n",
       "      <td>789454427dd4097a14749e3dde63346b7a8d3811</td>\n",
       "      <td>ed9eaeb6a707f50154024b24d7efcb874a9795dd</td>\n",
       "      <td>0</td>\n",
       "      <td>SCORE</td>\n",
       "      <td>it0012</td>\n",
       "      <td>0.0</td>\n",
       "      <td>0.0</td>\n",
       "      <td>0.0</td>\n",
       "      <td>0.0</td>\n",
       "      <td>0.0</td>\n",
       "      <td>0.0</td>\n",
       "      <td>0.0</td>\n",
       "      <td>0.0</td>\n",
       "      <td>0.0</td>\n",
       "      <td>10.0</td>\n",
       "    </tr>\n",
       "    <tr>\n",
       "      <th>2</th>\n",
       "      <td>90ce27571176d87961b565d5ef4b3de33ede04ac</td>\n",
       "      <td>789454427dd4097a14749e3dde63346b7a8d3811</td>\n",
       "      <td>ed9eaeb6a707f50154024b24d7efcb874a9795dd</td>\n",
       "      <td>1</td>\n",
       "      <td>SCORE</td>\n",
       "      <td>it0012</td>\n",
       "      <td>10000.0</td>\n",
       "      <td>0.0</td>\n",
       "      <td>0.0</td>\n",
       "      <td>0.0</td>\n",
       "      <td>0.0</td>\n",
       "      <td>0.0</td>\n",
       "      <td>0.0</td>\n",
       "      <td>0.0</td>\n",
       "      <td>0.0</td>\n",
       "      <td>9.0</td>\n",
       "    </tr>\n",
       "    <tr>\n",
       "      <th>3</th>\n",
       "      <td>90ce27571176d87961b565d5ef4b3de33ede04ac</td>\n",
       "      <td>bf96fbdc5f499538c3e2bfbec5779c8a14b0a9ff</td>\n",
       "      <td>ed9eaeb6a707f50154024b24d7efcb874a9795dd</td>\n",
       "      <td>1</td>\n",
       "      <td>SCORE</td>\n",
       "      <td>it0012</td>\n",
       "      <td>10000.0</td>\n",
       "      <td>0.0</td>\n",
       "      <td>0.0</td>\n",
       "      <td>0.0</td>\n",
       "      <td>0.0</td>\n",
       "      <td>0.0</td>\n",
       "      <td>0.0</td>\n",
       "      <td>0.0</td>\n",
       "      <td>0.0</td>\n",
       "      <td>9.0</td>\n",
       "    </tr>\n",
       "    <tr>\n",
       "      <th>4</th>\n",
       "      <td>90ce27571176d87961b565d5ef4b3de33ede04ac</td>\n",
       "      <td>7a6e5ca470ff47c3b5048f240c4738de71010c78</td>\n",
       "      <td>ed9eaeb6a707f50154024b24d7efcb874a9795dd</td>\n",
       "      <td>1</td>\n",
       "      <td>SCORE</td>\n",
       "      <td>it0012</td>\n",
       "      <td>10000.0</td>\n",
       "      <td>0.0</td>\n",
       "      <td>0.0</td>\n",
       "      <td>0.0</td>\n",
       "      <td>0.0</td>\n",
       "      <td>0.0</td>\n",
       "      <td>0.0</td>\n",
       "      <td>0.0</td>\n",
       "      <td>0.0</td>\n",
       "      <td>10.0</td>\n",
       "    </tr>\n",
       "    <tr>\n",
       "      <th>...</th>\n",
       "      <td>...</td>\n",
       "      <td>...</td>\n",
       "      <td>...</td>\n",
       "      <td>...</td>\n",
       "      <td>...</td>\n",
       "      <td>...</td>\n",
       "      <td>...</td>\n",
       "      <td>...</td>\n",
       "      <td>...</td>\n",
       "      <td>...</td>\n",
       "      <td>...</td>\n",
       "      <td>...</td>\n",
       "      <td>...</td>\n",
       "      <td>...</td>\n",
       "      <td>...</td>\n",
       "      <td>...</td>\n",
       "    </tr>\n",
       "    <tr>\n",
       "      <th>295193</th>\n",
       "      <td>613aea04c978f5e72fffc8bcff1f7b695a63f7b1</td>\n",
       "      <td>388516cbf597351226be1bdbe5ef30b9dcef570f</td>\n",
       "      <td>232cce96362898f08e9150ba244adaf2d6583ab2</td>\n",
       "      <td>1</td>\n",
       "      <td>SCORE</td>\n",
       "      <td>it0012</td>\n",
       "      <td>10000.0</td>\n",
       "      <td>0.0</td>\n",
       "      <td>0.0</td>\n",
       "      <td>0.0</td>\n",
       "      <td>0.0</td>\n",
       "      <td>0.0</td>\n",
       "      <td>0.0</td>\n",
       "      <td>0.0</td>\n",
       "      <td>0.0</td>\n",
       "      <td>10.0</td>\n",
       "    </tr>\n",
       "    <tr>\n",
       "      <th>295194</th>\n",
       "      <td>613aea04c978f5e72fffc8bcff1f7b695a63f7b1</td>\n",
       "      <td>d2b96124ccb8e27b4b8dacdb935e729cb1ba546b</td>\n",
       "      <td>232cce96362898f08e9150ba244adaf2d6583ab2</td>\n",
       "      <td>0</td>\n",
       "      <td>Compilation Error</td>\n",
       "      <td>it0012</td>\n",
       "      <td>0.0</td>\n",
       "      <td>inf</td>\n",
       "      <td>inf</td>\n",
       "      <td>inf</td>\n",
       "      <td>inf</td>\n",
       "      <td>inf</td>\n",
       "      <td>inf</td>\n",
       "      <td>inf</td>\n",
       "      <td>inf</td>\n",
       "      <td>61.0</td>\n",
       "    </tr>\n",
       "    <tr>\n",
       "      <th>295195</th>\n",
       "      <td>613aea04c978f5e72fffc8bcff1f7b695a63f7b1</td>\n",
       "      <td>d2b96124ccb8e27b4b8dacdb935e729cb1ba546b</td>\n",
       "      <td>232cce96362898f08e9150ba244adaf2d6583ab2</td>\n",
       "      <td>1</td>\n",
       "      <td>SCORE</td>\n",
       "      <td>it0012</td>\n",
       "      <td>10000.0</td>\n",
       "      <td>0.0</td>\n",
       "      <td>0.0</td>\n",
       "      <td>0.0</td>\n",
       "      <td>0.0</td>\n",
       "      <td>0.0</td>\n",
       "      <td>0.0</td>\n",
       "      <td>0.0</td>\n",
       "      <td>0.0</td>\n",
       "      <td>10.0</td>\n",
       "    </tr>\n",
       "    <tr>\n",
       "      <th>295196</th>\n",
       "      <td>613aea04c978f5e72fffc8bcff1f7b695a63f7b1</td>\n",
       "      <td>8c0f8dd4ff55e1609f733e043ac5e88b1dde6e7c</td>\n",
       "      <td>232cce96362898f08e9150ba244adaf2d6583ab2</td>\n",
       "      <td>1</td>\n",
       "      <td>SCORE</td>\n",
       "      <td>it0012</td>\n",
       "      <td>10000.0</td>\n",
       "      <td>0.0</td>\n",
       "      <td>0.0</td>\n",
       "      <td>0.0</td>\n",
       "      <td>0.0</td>\n",
       "      <td>0.0</td>\n",
       "      <td>0.0</td>\n",
       "      <td>0.0</td>\n",
       "      <td>0.0</td>\n",
       "      <td>9.0</td>\n",
       "    </tr>\n",
       "    <tr>\n",
       "      <th>295197</th>\n",
       "      <td>613aea04c978f5e72fffc8bcff1f7b695a63f7b1</td>\n",
       "      <td>e1baec9d1d9af44372188067b55edfec747f1342</td>\n",
       "      <td>232cce96362898f08e9150ba244adaf2d6583ab2</td>\n",
       "      <td>1</td>\n",
       "      <td>SCORE</td>\n",
       "      <td>it0012</td>\n",
       "      <td>10000.0</td>\n",
       "      <td>0.0</td>\n",
       "      <td>0.0</td>\n",
       "      <td>0.0</td>\n",
       "      <td>0.0</td>\n",
       "      <td>0.0</td>\n",
       "      <td>0.0</td>\n",
       "      <td>0.0</td>\n",
       "      <td>0.0</td>\n",
       "      <td>10.0</td>\n",
       "    </tr>\n",
       "  </tbody>\n",
       "</table>\n",
       "<p>295198 rows × 16 columns</p>\n",
       "</div>"
      ],
      "text/plain": [
       "                                   assignment_id  \\\n",
       "0       90ce27571176d87961b565d5ef4b3de33ede04ac   \n",
       "1       90ce27571176d87961b565d5ef4b3de33ede04ac   \n",
       "2       90ce27571176d87961b565d5ef4b3de33ede04ac   \n",
       "3       90ce27571176d87961b565d5ef4b3de33ede04ac   \n",
       "4       90ce27571176d87961b565d5ef4b3de33ede04ac   \n",
       "...                                          ...   \n",
       "295193  613aea04c978f5e72fffc8bcff1f7b695a63f7b1   \n",
       "295194  613aea04c978f5e72fffc8bcff1f7b695a63f7b1   \n",
       "295195  613aea04c978f5e72fffc8bcff1f7b695a63f7b1   \n",
       "295196  613aea04c978f5e72fffc8bcff1f7b695a63f7b1   \n",
       "295197  613aea04c978f5e72fffc8bcff1f7b695a63f7b1   \n",
       "\n",
       "                                      problem_id  \\\n",
       "0       789454427dd4097a14749e3dde63346b7a8d3811   \n",
       "1       789454427dd4097a14749e3dde63346b7a8d3811   \n",
       "2       789454427dd4097a14749e3dde63346b7a8d3811   \n",
       "3       bf96fbdc5f499538c3e2bfbec5779c8a14b0a9ff   \n",
       "4       7a6e5ca470ff47c3b5048f240c4738de71010c78   \n",
       "...                                          ...   \n",
       "295193  388516cbf597351226be1bdbe5ef30b9dcef570f   \n",
       "295194  d2b96124ccb8e27b4b8dacdb935e729cb1ba546b   \n",
       "295195  d2b96124ccb8e27b4b8dacdb935e729cb1ba546b   \n",
       "295196  8c0f8dd4ff55e1609f733e043ac5e88b1dde6e7c   \n",
       "295197  e1baec9d1d9af44372188067b55edfec747f1342   \n",
       "\n",
       "                                        username  is_final             status  \\\n",
       "0       ed9eaeb6a707f50154024b24d7efcb874a9795dd         0              SCORE   \n",
       "1       ed9eaeb6a707f50154024b24d7efcb874a9795dd         0              SCORE   \n",
       "2       ed9eaeb6a707f50154024b24d7efcb874a9795dd         1              SCORE   \n",
       "3       ed9eaeb6a707f50154024b24d7efcb874a9795dd         1              SCORE   \n",
       "4       ed9eaeb6a707f50154024b24d7efcb874a9795dd         1              SCORE   \n",
       "...                                          ...       ...                ...   \n",
       "295193  232cce96362898f08e9150ba244adaf2d6583ab2         1              SCORE   \n",
       "295194  232cce96362898f08e9150ba244adaf2d6583ab2         0  Compilation Error   \n",
       "295195  232cce96362898f08e9150ba244adaf2d6583ab2         1              SCORE   \n",
       "295196  232cce96362898f08e9150ba244adaf2d6583ab2         1              SCORE   \n",
       "295197  232cce96362898f08e9150ba244adaf2d6583ab2         1              SCORE   \n",
       "\n",
       "       language_id   scores  sum_runtimes  max_runtimes  min_runtimes  \\\n",
       "0           it0012      0.0           0.0           0.0           0.0   \n",
       "1           it0012      0.0           0.0           0.0           0.0   \n",
       "2           it0012  10000.0           0.0           0.0           0.0   \n",
       "3           it0012  10000.0           0.0           0.0           0.0   \n",
       "4           it0012  10000.0           0.0           0.0           0.0   \n",
       "...            ...      ...           ...           ...           ...   \n",
       "295193      it0012  10000.0           0.0           0.0           0.0   \n",
       "295194      it0012      0.0           inf           inf           inf   \n",
       "295195      it0012  10000.0           0.0           0.0           0.0   \n",
       "295196      it0012  10000.0           0.0           0.0           0.0   \n",
       "295197      it0012  10000.0           0.0           0.0           0.0   \n",
       "\n",
       "        average_runtimes  average_memories  max_memories  min_memories  \\\n",
       "0                    0.0               0.0           0.0           0.0   \n",
       "1                    0.0               0.0           0.0           0.0   \n",
       "2                    0.0               0.0           0.0           0.0   \n",
       "3                    0.0               0.0           0.0           0.0   \n",
       "4                    0.0               0.0           0.0           0.0   \n",
       "...                  ...               ...           ...           ...   \n",
       "295193               0.0               0.0           0.0           0.0   \n",
       "295194               inf               inf           inf           inf   \n",
       "295195               0.0               0.0           0.0           0.0   \n",
       "295196               0.0               0.0           0.0           0.0   \n",
       "295197               0.0               0.0           0.0           0.0   \n",
       "\n",
       "        sum_memories  waiting_time  \n",
       "0                0.0         294.0  \n",
       "1                0.0          10.0  \n",
       "2                0.0           9.0  \n",
       "3                0.0           9.0  \n",
       "4                0.0          10.0  \n",
       "...              ...           ...  \n",
       "295193           0.0          10.0  \n",
       "295194           inf          61.0  \n",
       "295195           0.0          10.0  \n",
       "295196           0.0           9.0  \n",
       "295197           0.0          10.0  \n",
       "\n",
       "[295198 rows x 16 columns]"
      ]
     },
     "execution_count": 12,
     "metadata": {},
     "output_type": "execute_result"
    }
   ],
   "source": [
    "df"
   ]
  },
  {
   "cell_type": "markdown",
   "id": "8386ffd0-c495-41fc-af8c-82c288cdce92",
   "metadata": {},
   "source": [
    "# **Feature Engineering**"
   ]
  },
  {
   "cell_type": "code",
   "execution_count": 13,
   "id": "63e7e305-8066-439a-bb6a-e81dc2aebaca",
   "metadata": {
    "tags": []
   },
   "outputs": [],
   "source": [
    "X_train = []\n",
    "y1_train = []\n",
    "y2_train = []\n",
    "y3_train = []\n",
    "y4_train = []\n",
    "X_test = []\n",
    "user_test = []\n",
    "for username in np.unique(df['username']):\n",
    "    # Feature Engineering\n",
    "    feature = []\n",
    "    user_infors = df[df['username'] == username]\n",
    "    # Số lượng submit\n",
    "    feature.append(user_infors.shape[0])\n",
    "    # Số lượng compilation error\n",
    "    feature.append(user_infors[user_infors['status'] == 'Compilation Error'].shape[0])\n",
    "    # Số lượng syntax error\n",
    "    feature.append(user_infors[user_infors['status'] == 'Syntax Error'].shape[0])\n",
    "    # Số lượng ngôn ngữ sử dụng và nộp bài chạy thành công không bị lỗi compilation cũng như syntax\n",
    "    feature.append(np.unique(user_infors[user_infors['status'] == 'SCORE']['language_id']).shape[0])\n",
    "    # Số lượng problem đã làm và nộp bài chạy thành công không bị lỗi compilation cũng như syntax\n",
    "    feature.append(np.unique(user_infors[user_infors['status'] == 'SCORE']['problem_id']).shape[0])\n",
    "    # Số lượng assignment đã làm và nộp bài chạy thành công không bị lỗi compilation cũng như syntax\n",
    "    feature.append(np.unique(user_infors[user_infors['status'] == 'SCORE']['assignment_id']).shape[0])\n",
    "    # Thời gian chạy trung bình của các testcase có final = 1 và chạy thành công\n",
    "    tmp_user_infors = user_infors[user_infors['is_final'] == 1]\n",
    "    if tmp_user_infors[tmp_user_infors['status'] == 'SCORE']['sum_runtimes'].shape[0] > 0:\n",
    "        feature.append(np.average(tmp_user_infors[tmp_user_infors['status'] == 'SCORE']['sum_runtimes']))\n",
    "    else:\n",
    "        feature.append(np.inf)\n",
    "    # Thời gian chạy lớn nhất của các testcase có final = 1 và chạy thành công\n",
    "    if tmp_user_infors[tmp_user_infors['status'] == 'SCORE']['max_runtimes'].shape[0] > 0:\n",
    "        feature.append(np.max(tmp_user_infors[tmp_user_infors['status'] == 'SCORE']['max_runtimes']))\n",
    "    else:\n",
    "        feature.append(np.inf)\n",
    "    # Thời gian chạy nhỏ nhất của các testcase có final = 1 và chạy thành công\n",
    "    if tmp_user_infors[tmp_user_infors['status'] == 'SCORE']['min_runtimes'].shape[0] > 0:\n",
    "        feature.append(np.min(tmp_user_infors[tmp_user_infors['status'] == 'SCORE']['min_runtimes']))\n",
    "    else:\n",
    "        feature.append(np.inf)\n",
    "    # Bộ nhớ trung bình của các testcase có final = 1 và chạy thành công\n",
    "    if tmp_user_infors[tmp_user_infors['status'] == 'SCORE']['sum_memories'].shape[0] > 0:\n",
    "        feature.append(np.average(tmp_user_infors[tmp_user_infors['status'] == 'SCORE']['sum_memories']))\n",
    "    else:\n",
    "        feature.append(np.inf)\n",
    "    # Bộ nhớ lớn nhất của các testcase có final = 1 và chạy thành công\n",
    "    if tmp_user_infors[tmp_user_infors['status'] == 'SCORE']['max_memories'].shape[0] > 0:\n",
    "        feature.append(np.max(tmp_user_infors[tmp_user_infors['status'] == 'SCORE']['max_memories']))\n",
    "    else:\n",
    "        feature.append(np.inf)\n",
    "    # Bộ nhớ nhỏ nhất của các testcase có final = 1 và chạy thành công\n",
    "    if tmp_user_infors[tmp_user_infors['status'] == 'SCORE']['min_memories'].shape[0] > 0:\n",
    "        feature.append(np.min(tmp_user_infors[tmp_user_infors['status'] == 'SCORE']['min_memories']))\n",
    "    else:\n",
    "        feature.append(np.inf)\n",
    "    # Thời gian đợi trung bình của submit trên server cho đến khi được chấm\n",
    "    if tmp_user_infors[tmp_user_infors['status'] == 'SCORE']['waiting_time'].shape[0] > 0:\n",
    "        feature.append(np.average(tmp_user_infors[tmp_user_infors['status'] == 'SCORE']['waiting_time']))\n",
    "    else:\n",
    "        feature.append(np.inf)\n",
    "    # Điểm trung bình của các lần submit cao nhất của mỗi problem\n",
    "    scores = 0\n",
    "    tmp_user_infors = tmp_user_infors[tmp_user_infors['status'] == 'SCORE']\n",
    "    for i in np.unique(tmp_user_infors['problem_id']):\n",
    "        scores += np.max(tmp_user_infors[tmp_user_infors['problem_id'] == i]['scores'])\n",
    "    try:\n",
    "        feature.append(scores/np.unique(np.unique(tmp_user_infors['problem_id'])).shape[0])\n",
    "    except:\n",
    "        feature.append(0)\n",
    "    \n",
    "    \n",
    "    if username in np.array(df1['username']):\n",
    "        X_train.append(feature)\n",
    "        try:\n",
    "            y1_train.append(np.float32(np.array(df1[df1['username'] == username]['QT'])[0]))\n",
    "        except:\n",
    "            y1_train.append(0)\n",
    "        try:\n",
    "            y2_train.append(np.float32(np.array(df2[df2['username'] == username]['TH'])[0]))\n",
    "        except:\n",
    "            y2_train.append(0)\n",
    "        try:\n",
    "            y3_train.append(np.float32(np.array(df3[df3['username'] == username]['CK'])[0]))\n",
    "        except:\n",
    "            y3_train.append(0)\n",
    "        try:\n",
    "            y4_train.append(np.float32(np.array(df4[df4['username'] == username]['TBTL'])[0]))\n",
    "        except:\n",
    "            y4_train.append(0)\n",
    "    elif username not in np.array(df4['username']):\n",
    "        X_test.append(feature)\n",
    "        user_test.append(username)\n",
    "\n",
    "X_train = np.array(X_train)\n",
    "y1_train = np.array(y1_train)\n",
    "y2_train = np.array(y2_train)\n",
    "y3_train = np.array(y3_train)\n",
    "y4_train = np.array(y4_train)\n",
    "X_test = np.array(X_test)\n",
    "user_test = np.array(user_test)"
   ]
  },
  {
   "cell_type": "markdown",
   "id": "97115580-518c-42e1-8e90-adfe55ba2d58",
   "metadata": {},
   "source": [
    "# **Save Data**"
   ]
  },
  {
   "cell_type": "code",
   "execution_count": 14,
   "id": "089161b4-22f1-428c-a44c-fd8b1e1d1d38",
   "metadata": {},
   "outputs": [],
   "source": [
    "header = ['Submissions', 'Compilation Errors', 'Syntax Errors', 'Number of Languages', 'Done Problems', 'Done Assignments', 'Average Runtimes', 'Max Runtimes', 'Min Runtimes', 'Average Memories', 'Max Memories', 'Min Memories', 'Average Waiting Times', 'Average Scores']\n",
    "\n",
    "df = pd.DataFrame(X_train, columns=header)\n",
    "df['QT'] = y1_train\n",
    "df['TH'] = y2_train\n",
    "df['CK'] = y3_train\n",
    "df['TBTL'] = y4_train"
   ]
  },
  {
   "cell_type": "code",
   "execution_count": 15,
   "id": "ebd4687b-b83e-442e-8739-241db0c5e307",
   "metadata": {
    "tags": []
   },
   "outputs": [
    {
     "data": {
      "text/html": [
       "<div>\n",
       "<style scoped>\n",
       "    .dataframe tbody tr th:only-of-type {\n",
       "        vertical-align: middle;\n",
       "    }\n",
       "\n",
       "    .dataframe tbody tr th {\n",
       "        vertical-align: top;\n",
       "    }\n",
       "\n",
       "    .dataframe thead th {\n",
       "        text-align: right;\n",
       "    }\n",
       "</style>\n",
       "<table border=\"1\" class=\"dataframe\">\n",
       "  <thead>\n",
       "    <tr style=\"text-align: right;\">\n",
       "      <th></th>\n",
       "      <th>Submissions</th>\n",
       "      <th>Compilation Errors</th>\n",
       "      <th>Syntax Errors</th>\n",
       "      <th>Number of Languages</th>\n",
       "      <th>Done Problems</th>\n",
       "      <th>Done Assignments</th>\n",
       "      <th>Average Runtimes</th>\n",
       "      <th>Max Runtimes</th>\n",
       "      <th>Min Runtimes</th>\n",
       "      <th>Average Memories</th>\n",
       "      <th>Max Memories</th>\n",
       "      <th>Min Memories</th>\n",
       "      <th>Average Waiting Times</th>\n",
       "      <th>Average Scores</th>\n",
       "      <th>QT</th>\n",
       "      <th>TH</th>\n",
       "      <th>CK</th>\n",
       "      <th>TBTL</th>\n",
       "    </tr>\n",
       "  </thead>\n",
       "  <tbody>\n",
       "    <tr>\n",
       "      <th>0</th>\n",
       "      <td>147.0</td>\n",
       "      <td>28.0</td>\n",
       "      <td>0.0</td>\n",
       "      <td>1.0</td>\n",
       "      <td>46.0</td>\n",
       "      <td>7.0</td>\n",
       "      <td>0.167174</td>\n",
       "      <td>0.48</td>\n",
       "      <td>0.0</td>\n",
       "      <td>2115.652174</td>\n",
       "      <td>5020.0</td>\n",
       "      <td>0.0</td>\n",
       "      <td>10.326087</td>\n",
       "      <td>10000.000000</td>\n",
       "      <td>7.5</td>\n",
       "      <td>5.0</td>\n",
       "      <td>5.5</td>\n",
       "      <td>7.24</td>\n",
       "    </tr>\n",
       "    <tr>\n",
       "      <th>1</th>\n",
       "      <td>259.0</td>\n",
       "      <td>50.0</td>\n",
       "      <td>0.0</td>\n",
       "      <td>1.0</td>\n",
       "      <td>77.0</td>\n",
       "      <td>9.0</td>\n",
       "      <td>0.128961</td>\n",
       "      <td>0.69</td>\n",
       "      <td>0.0</td>\n",
       "      <td>1404.935065</td>\n",
       "      <td>5876.0</td>\n",
       "      <td>0.0</td>\n",
       "      <td>948.714286</td>\n",
       "      <td>9772.714286</td>\n",
       "      <td>7.0</td>\n",
       "      <td>8.5</td>\n",
       "      <td>6.5</td>\n",
       "      <td>8.11</td>\n",
       "    </tr>\n",
       "    <tr>\n",
       "      <th>2</th>\n",
       "      <td>195.0</td>\n",
       "      <td>20.0</td>\n",
       "      <td>0.0</td>\n",
       "      <td>1.0</td>\n",
       "      <td>65.0</td>\n",
       "      <td>7.0</td>\n",
       "      <td>0.073788</td>\n",
       "      <td>0.55</td>\n",
       "      <td>0.0</td>\n",
       "      <td>834.484848</td>\n",
       "      <td>6432.0</td>\n",
       "      <td>0.0</td>\n",
       "      <td>11.984848</td>\n",
       "      <td>9585.937500</td>\n",
       "      <td>9.0</td>\n",
       "      <td>7.0</td>\n",
       "      <td>4.5</td>\n",
       "      <td>7.30</td>\n",
       "    </tr>\n",
       "    <tr>\n",
       "      <th>3</th>\n",
       "      <td>107.0</td>\n",
       "      <td>13.0</td>\n",
       "      <td>0.0</td>\n",
       "      <td>1.0</td>\n",
       "      <td>52.0</td>\n",
       "      <td>8.0</td>\n",
       "      <td>0.460455</td>\n",
       "      <td>1.06</td>\n",
       "      <td>0.0</td>\n",
       "      <td>3637.333333</td>\n",
       "      <td>1984.0</td>\n",
       "      <td>0.0</td>\n",
       "      <td>13.409091</td>\n",
       "      <td>8894.596154</td>\n",
       "      <td>10.0</td>\n",
       "      <td>10.0</td>\n",
       "      <td>5.0</td>\n",
       "      <td>8.20</td>\n",
       "    </tr>\n",
       "    <tr>\n",
       "      <th>4</th>\n",
       "      <td>199.0</td>\n",
       "      <td>45.0</td>\n",
       "      <td>0.0</td>\n",
       "      <td>1.0</td>\n",
       "      <td>84.0</td>\n",
       "      <td>9.0</td>\n",
       "      <td>0.000000</td>\n",
       "      <td>0.00</td>\n",
       "      <td>0.0</td>\n",
       "      <td>0.000000</td>\n",
       "      <td>0.0</td>\n",
       "      <td>0.0</td>\n",
       "      <td>2345.976190</td>\n",
       "      <td>9476.190476</td>\n",
       "      <td>9.0</td>\n",
       "      <td>6.0</td>\n",
       "      <td>4.0</td>\n",
       "      <td>7.50</td>\n",
       "    </tr>\n",
       "    <tr>\n",
       "      <th>...</th>\n",
       "      <td>...</td>\n",
       "      <td>...</td>\n",
       "      <td>...</td>\n",
       "      <td>...</td>\n",
       "      <td>...</td>\n",
       "      <td>...</td>\n",
       "      <td>...</td>\n",
       "      <td>...</td>\n",
       "      <td>...</td>\n",
       "      <td>...</td>\n",
       "      <td>...</td>\n",
       "      <td>...</td>\n",
       "      <td>...</td>\n",
       "      <td>...</td>\n",
       "      <td>...</td>\n",
       "      <td>...</td>\n",
       "      <td>...</td>\n",
       "      <td>...</td>\n",
       "    </tr>\n",
       "    <tr>\n",
       "      <th>756</th>\n",
       "      <td>111.0</td>\n",
       "      <td>30.0</td>\n",
       "      <td>0.0</td>\n",
       "      <td>1.0</td>\n",
       "      <td>43.0</td>\n",
       "      <td>6.0</td>\n",
       "      <td>0.013409</td>\n",
       "      <td>0.51</td>\n",
       "      <td>0.0</td>\n",
       "      <td>224.727273</td>\n",
       "      <td>5336.0</td>\n",
       "      <td>0.0</td>\n",
       "      <td>9.045455</td>\n",
       "      <td>9380.952381</td>\n",
       "      <td>9.0</td>\n",
       "      <td>6.0</td>\n",
       "      <td>5.5</td>\n",
       "      <td>7.67</td>\n",
       "    </tr>\n",
       "    <tr>\n",
       "      <th>757</th>\n",
       "      <td>357.0</td>\n",
       "      <td>103.0</td>\n",
       "      <td>0.0</td>\n",
       "      <td>1.0</td>\n",
       "      <td>104.0</td>\n",
       "      <td>17.0</td>\n",
       "      <td>0.145000</td>\n",
       "      <td>0.95</td>\n",
       "      <td>0.0</td>\n",
       "      <td>448.307692</td>\n",
       "      <td>6268.0</td>\n",
       "      <td>0.0</td>\n",
       "      <td>9.230769</td>\n",
       "      <td>9921.596154</td>\n",
       "      <td>8.0</td>\n",
       "      <td>8.5</td>\n",
       "      <td>6.0</td>\n",
       "      <td>7.54</td>\n",
       "    </tr>\n",
       "    <tr>\n",
       "      <th>758</th>\n",
       "      <td>155.0</td>\n",
       "      <td>38.0</td>\n",
       "      <td>0.0</td>\n",
       "      <td>1.0</td>\n",
       "      <td>49.0</td>\n",
       "      <td>8.0</td>\n",
       "      <td>0.057200</td>\n",
       "      <td>0.52</td>\n",
       "      <td>0.0</td>\n",
       "      <td>555.520000</td>\n",
       "      <td>1984.0</td>\n",
       "      <td>0.0</td>\n",
       "      <td>8.540000</td>\n",
       "      <td>9673.469388</td>\n",
       "      <td>6.5</td>\n",
       "      <td>5.5</td>\n",
       "      <td>6.0</td>\n",
       "      <td>7.49</td>\n",
       "    </tr>\n",
       "    <tr>\n",
       "      <th>759</th>\n",
       "      <td>557.0</td>\n",
       "      <td>141.0</td>\n",
       "      <td>0.0</td>\n",
       "      <td>1.0</td>\n",
       "      <td>112.0</td>\n",
       "      <td>12.0</td>\n",
       "      <td>0.116339</td>\n",
       "      <td>0.54</td>\n",
       "      <td>0.0</td>\n",
       "      <td>1711.392857</td>\n",
       "      <td>5892.0</td>\n",
       "      <td>0.0</td>\n",
       "      <td>666.026786</td>\n",
       "      <td>9875.000000</td>\n",
       "      <td>10.0</td>\n",
       "      <td>10.0</td>\n",
       "      <td>7.0</td>\n",
       "      <td>8.94</td>\n",
       "    </tr>\n",
       "    <tr>\n",
       "      <th>760</th>\n",
       "      <td>54.0</td>\n",
       "      <td>19.0</td>\n",
       "      <td>0.0</td>\n",
       "      <td>1.0</td>\n",
       "      <td>24.0</td>\n",
       "      <td>4.0</td>\n",
       "      <td>0.000000</td>\n",
       "      <td>0.00</td>\n",
       "      <td>0.0</td>\n",
       "      <td>0.000000</td>\n",
       "      <td>0.0</td>\n",
       "      <td>0.0</td>\n",
       "      <td>8.041667</td>\n",
       "      <td>9583.333333</td>\n",
       "      <td>8.0</td>\n",
       "      <td>1.5</td>\n",
       "      <td>2.5</td>\n",
       "      <td>7.30</td>\n",
       "    </tr>\n",
       "  </tbody>\n",
       "</table>\n",
       "<p>761 rows × 18 columns</p>\n",
       "</div>"
      ],
      "text/plain": [
       "     Submissions  Compilation Errors  Syntax Errors  Number of Languages  \\\n",
       "0          147.0                28.0            0.0                  1.0   \n",
       "1          259.0                50.0            0.0                  1.0   \n",
       "2          195.0                20.0            0.0                  1.0   \n",
       "3          107.0                13.0            0.0                  1.0   \n",
       "4          199.0                45.0            0.0                  1.0   \n",
       "..           ...                 ...            ...                  ...   \n",
       "756        111.0                30.0            0.0                  1.0   \n",
       "757        357.0               103.0            0.0                  1.0   \n",
       "758        155.0                38.0            0.0                  1.0   \n",
       "759        557.0               141.0            0.0                  1.0   \n",
       "760         54.0                19.0            0.0                  1.0   \n",
       "\n",
       "     Done Problems  Done Assignments  Average Runtimes  Max Runtimes  \\\n",
       "0             46.0               7.0          0.167174          0.48   \n",
       "1             77.0               9.0          0.128961          0.69   \n",
       "2             65.0               7.0          0.073788          0.55   \n",
       "3             52.0               8.0          0.460455          1.06   \n",
       "4             84.0               9.0          0.000000          0.00   \n",
       "..             ...               ...               ...           ...   \n",
       "756           43.0               6.0          0.013409          0.51   \n",
       "757          104.0              17.0          0.145000          0.95   \n",
       "758           49.0               8.0          0.057200          0.52   \n",
       "759          112.0              12.0          0.116339          0.54   \n",
       "760           24.0               4.0          0.000000          0.00   \n",
       "\n",
       "     Min Runtimes  Average Memories  Max Memories  Min Memories  \\\n",
       "0             0.0       2115.652174        5020.0           0.0   \n",
       "1             0.0       1404.935065        5876.0           0.0   \n",
       "2             0.0        834.484848        6432.0           0.0   \n",
       "3             0.0       3637.333333        1984.0           0.0   \n",
       "4             0.0          0.000000           0.0           0.0   \n",
       "..            ...               ...           ...           ...   \n",
       "756           0.0        224.727273        5336.0           0.0   \n",
       "757           0.0        448.307692        6268.0           0.0   \n",
       "758           0.0        555.520000        1984.0           0.0   \n",
       "759           0.0       1711.392857        5892.0           0.0   \n",
       "760           0.0          0.000000           0.0           0.0   \n",
       "\n",
       "     Average Waiting Times  Average Scores    QT    TH   CK  TBTL  \n",
       "0                10.326087    10000.000000   7.5   5.0  5.5  7.24  \n",
       "1               948.714286     9772.714286   7.0   8.5  6.5  8.11  \n",
       "2                11.984848     9585.937500   9.0   7.0  4.5  7.30  \n",
       "3                13.409091     8894.596154  10.0  10.0  5.0  8.20  \n",
       "4              2345.976190     9476.190476   9.0   6.0  4.0  7.50  \n",
       "..                     ...             ...   ...   ...  ...   ...  \n",
       "756               9.045455     9380.952381   9.0   6.0  5.5  7.67  \n",
       "757               9.230769     9921.596154   8.0   8.5  6.0  7.54  \n",
       "758               8.540000     9673.469388   6.5   5.5  6.0  7.49  \n",
       "759             666.026786     9875.000000  10.0  10.0  7.0  8.94  \n",
       "760               8.041667     9583.333333   8.0   1.5  2.5  7.30  \n",
       "\n",
       "[761 rows x 18 columns]"
      ]
     },
     "execution_count": 15,
     "metadata": {},
     "output_type": "execute_result"
    }
   ],
   "source": [
    "df"
   ]
  },
  {
   "cell_type": "code",
   "execution_count": 16,
   "id": "c20ac21c-8ad8-40a8-99fa-74182c45dfbe",
   "metadata": {
    "tags": []
   },
   "outputs": [],
   "source": [
    "df.to_csv('./Data.csv', index=False)"
   ]
  },
  {
   "cell_type": "code",
   "execution_count": 17,
   "id": "03e59b50-ac4f-4ad4-8b5e-515112d16293",
   "metadata": {
    "tags": []
   },
   "outputs": [],
   "source": [
    "df1 = pd.DataFrame(X_test, columns=header)\n",
    "df1['username'] = user_test\n",
    "df1.to_csv('./Test.csv', index=False)"
   ]
  },
  {
   "cell_type": "markdown",
   "id": "76c1ac83-b6a6-4367-960c-ae44c9c9a23d",
   "metadata": {},
   "source": [
    "# **Visualize**"
   ]
  },
  {
   "cell_type": "code",
   "execution_count": 18,
   "id": "269f37a7-daf3-483f-a4c1-0115ec34081d",
   "metadata": {
    "tags": []
   },
   "outputs": [],
   "source": [
    "import matplotlib.pyplot as plt\n",
    "import seaborn as sns"
   ]
  },
  {
   "cell_type": "code",
   "execution_count": 19,
   "id": "545421ac-af5b-4393-8daf-a1e59b613cd5",
   "metadata": {
    "tags": []
   },
   "outputs": [],
   "source": [
    "df = pd.read_csv('./Data.csv')"
   ]
  },
  {
   "cell_type": "code",
   "execution_count": 20,
   "id": "497a23e5-784e-4bf0-a9a3-800b329edc46",
   "metadata": {
    "tags": []
   },
   "outputs": [
    {
     "data": {
      "image/png": "[encoded data removed]",
      "text/plain": [
       "<Figure size 1200x800 with 2 Axes>"
      ]
     },
     "metadata": {},
     "output_type": "display_data"
    }
   ],
   "source": [
    "# Tính toán ma trận hệ số tương quan Pearson\n",
    "correlation_matrix = df.corr()\n",
    "\n",
    "# Lấy hệ số tương quan giữa các features và các điểm QT, TH, CK, TBTL\n",
    "corr_with_scores = correlation_matrix.loc[['QT', 'TH', 'CK', 'TBTL'], :]\n",
    "\n",
    "# Vẽ heatmap để hiển thị ma trận tương quan\n",
    "plt.figure(figsize=(12, 8))\n",
    "sns.heatmap(corr_with_scores, annot=True, cmap='coolwarm', center=0)\n",
    "plt.title('Heatmap of Correlation between Features and Scores (QT, TH, CK, TBTL)')\n",
    "plt.show()"
   ]
  },
  {
   "cell_type": "markdown",
   "id": "e1acd71a-863b-408a-92ed-918cc8b8aa79",
   "metadata": {},
   "source": [
    "# **Scale Data**"
   ]
  },
  {
   "cell_type": "code",
   "execution_count": 77,
   "id": "82069344-f1d4-484f-9386-eebbbee7ac7c",
   "metadata": {
    "tags": []
   },
   "outputs": [],
   "source": [
    "from sklearn.preprocessing import StandardScaler"
   ]
  },
  {
   "cell_type": "code",
   "execution_count": 78,
   "id": "f37519b5-e03c-4408-9845-602dca5b2f44",
   "metadata": {},
   "outputs": [],
   "source": [
    "df = pd.read_csv('./Data.csv')"
   ]
  },
  {
   "cell_type": "code",
   "execution_count": 79,
   "id": "d551ce24-c1b0-4950-afd9-b3bcc793b410",
   "metadata": {
    "tags": []
   },
   "outputs": [
    {
     "name": "stdout",
     "output_type": "stream",
     "text": [
      "Submissions              0\n",
      "Compilation Errors       0\n",
      "Syntax Errors            0\n",
      "Number of Languages      0\n",
      "Done Problems            0\n",
      "Done Assignments         0\n",
      "Average Runtimes         7\n",
      "Max Runtimes             7\n",
      "Min Runtimes             7\n",
      "Average Memories         7\n",
      "Max Memories             7\n",
      "Min Memories             7\n",
      "Average Waiting Times    7\n",
      "Average Scores           0\n",
      "QT                       0\n",
      "TH                       0\n",
      "CK                       0\n",
      "TBTL                     0\n",
      "dtype: int64\n"
     ]
    }
   ],
   "source": [
    "print(df.isin([np.inf, -np.inf]).sum())"
   ]
  },
  {
   "cell_type": "code",
   "execution_count": 80,
   "id": "af95124d-8245-49af-b03c-4b403a2dff27",
   "metadata": {
    "tags": []
   },
   "outputs": [
    {
     "name": "stderr",
     "output_type": "stream",
     "text": [
      "C:\\Users\\ADMIN\\AppData\\Local\\Temp\\ipykernel_26804\\4288556398.py:8: FutureWarning: A value is trying to be set on a copy of a DataFrame or Series through chained assignment using an inplace method.\n",
      "The behavior will change in pandas 3.0. This inplace method will never work because the intermediate object on which we are setting values always behaves as a copy.\n",
      "\n",
      "For example, when doing 'df[col].method(value, inplace=True)', try using 'df.method({col: value}, inplace=True)' or df[col] = df[col].method(value) instead, to perform the operation inplace on the original object.\n",
      "\n",
      "\n",
      "  df[col].replace(np.inf, max_value + epsilon, inplace=True)\n",
      "C:\\Users\\ADMIN\\AppData\\Local\\Temp\\ipykernel_26804\\4288556398.py:9: FutureWarning: A value is trying to be set on a copy of a DataFrame or Series through chained assignment using an inplace method.\n",
      "The behavior will change in pandas 3.0. This inplace method will never work because the intermediate object on which we are setting values always behaves as a copy.\n",
      "\n",
      "For example, when doing 'df[col].method(value, inplace=True)', try using 'df.method({col: value}, inplace=True)' or df[col] = df[col].method(value) instead, to perform the operation inplace on the original object.\n",
      "\n",
      "\n",
      "  df[col].replace(-np.inf, min_value - epsilon, inplace=True)\n"
     ]
    }
   ],
   "source": [
    "epsilon = 1e+2  # hoặc giá trị khác bạn muốn\n",
    "# Thay thế các giá trị inf và -inf\n",
    "for col in df.columns:\n",
    "    if df[col].dtype in [np.float64, np.float32, np.int64, np.int32]:\n",
    "        max_value = df.loc[df[col] != np.inf, col].max()\n",
    "        min_value = df.loc[df[col] != -np.inf, col].min()\n",
    "        \n",
    "        df[col].replace(np.inf, max_value + epsilon, inplace=True)\n",
    "        df[col].replace(-np.inf, min_value - epsilon, inplace=True)"
   ]
  },
  {
   "cell_type": "code",
   "execution_count": 81,
   "id": "1fe4f192-52a3-4647-8fba-7f9029c20b74",
   "metadata": {
    "tags": []
   },
   "outputs": [
    {
     "name": "stdout",
     "output_type": "stream",
     "text": [
      "Submissions              0\n",
      "Compilation Errors       0\n",
      "Syntax Errors            0\n",
      "Number of Languages      0\n",
      "Done Problems            0\n",
      "Done Assignments         0\n",
      "Average Runtimes         0\n",
      "Max Runtimes             0\n",
      "Min Runtimes             0\n",
      "Average Memories         0\n",
      "Max Memories             0\n",
      "Min Memories             0\n",
      "Average Waiting Times    0\n",
      "Average Scores           0\n",
      "QT                       0\n",
      "TH                       0\n",
      "CK                       0\n",
      "TBTL                     0\n",
      "dtype: int64\n"
     ]
    }
   ],
   "source": [
    "print(df.isin([np.inf, -np.inf]).sum())"
   ]
  },
  {
   "cell_type": "code",
   "execution_count": 82,
   "id": "b2c4292d-acda-4e7b-a716-c107b835e123",
   "metadata": {},
   "outputs": [],
   "source": [
    "features = df[['Submissions', 'Compilation Errors', 'Number of Languages', 'Done Problems', 'Done Assignments', 'Max Runtimes', 'Max Memories', 'Average Scores']].values\n",
    "# features = df[['Submissions', 'Number of Languages', 'Done Problems', 'Done Assignments']].values\n",
    "# features = df.drop(['QT', 'TH', 'CK', 'TBTL'], axis = 1).values\n",
    "labels_th = df['TH'].values\n",
    "labels_qt = df['QT'].values\n",
    "labels_ck = df['CK'].values\n",
    "labels_tbtl = df['TBTL'].values"
   ]
  },
  {
   "cell_type": "code",
   "execution_count": 83,
   "id": "44646a81-eeb9-419a-abcf-0f0d50ffa952",
   "metadata": {
    "tags": []
   },
   "outputs": [],
   "source": [
    "# Hàm thêm nhiễu Gaussian\n",
    "def add_gaussian_noise(data, noise_level=0.1):\n",
    "    noise = np.random.normal(np.mean(data), np.std(data), data.shape)\n",
    "    return data + noise"
   ]
  },
  {
   "cell_type": "code",
   "execution_count": 84,
   "id": "7ea1f256-8d05-410a-997a-dc171ec11677",
   "metadata": {
    "tags": []
   },
   "outputs": [],
   "source": [
    "# Tạo dữ liệu tăng cường bằng cách thêm nhiễu Gaussian\n",
    "features_augmented = add_gaussian_noise(features, noise_level=0.1)\n",
    "labels_th_augmented = add_gaussian_noise(labels_th, noise_level=0.1)\n",
    "labels_qt_augmented = add_gaussian_noise(labels_qt, noise_level=0.1)\n",
    "labels_ck_augmented = add_gaussian_noise(labels_ck, noise_level=0.1)\n",
    "labels_tbtl_augmented = add_gaussian_noise(labels_tbtl, noise_level=0.1)\n",
    "\n",
    "# Kết hợp dữ liệu ban đầu và dữ liệu tăng cường\n",
    "features = np.vstack((features, features_augmented))\n",
    "labels_th = np.hstack((labels_th, labels_th_augmented))\n",
    "labels_qt = np.hstack((labels_qt, labels_qt_augmented))\n",
    "labels_ck = np.hstack((labels_ck, labels_ck_augmented))\n",
    "labels_tbtl = np.hstack((labels_tbtl, labels_tbtl_augmented))"
   ]
  },
  {
   "cell_type": "code",
   "execution_count": 85,
   "id": "3f8a22d5-0119-4c43-8199-6356c4b9f5dd",
   "metadata": {
    "tags": []
   },
   "outputs": [
    {
     "data": {
      "text/plain": [
       "(1522, 8)"
      ]
     },
     "execution_count": 85,
     "metadata": {},
     "output_type": "execute_result"
    }
   ],
   "source": [
    "features.shape"
   ]
  },
  {
   "cell_type": "code",
   "execution_count": 86,
   "id": "8785a6f4-1313-4551-b3df-167d635d4b9e",
   "metadata": {
    "tags": []
   },
   "outputs": [
    {
     "data": {
      "text/html": [
       "<style>#sk-container-id-6 {color: black;background-color: white;}#sk-container-id-6 pre{padding: 0;}#sk-container-id-6 div.sk-toggleable {background-color: white;}#sk-container-id-6 label.sk-toggleable__label {cursor: pointer;display: block;width: 100%;margin-bottom: 0;padding: 0.3em;box-sizing: border-box;text-align: center;}#sk-container-id-6 label.sk-toggleable__label-arrow:before {content: \"▸\";float: left;margin-right: 0.25em;color: #696969;}#sk-container-id-6 label.sk-toggleable__label-arrow:hover:before {color: black;}#sk-container-id-6 div.sk-estimator:hover label.sk-toggleable__label-arrow:before {color: black;}#sk-container-id-6 div.sk-toggleable__content {max-height: 0;max-width: 0;overflow: hidden;text-align: left;background-color: #f0f8ff;}#sk-container-id-6 div.sk-toggleable__content pre {margin: 0.2em;color: black;border-radius: 0.25em;background-color: #f0f8ff;}#sk-container-id-6 input.sk-toggleable__control:checked~div.sk-toggleable__content {max-height: 200px;max-width: 100%;overflow: auto;}#sk-container-id-6 input.sk-toggleable__control:checked~label.sk-toggleable__label-arrow:before {content: \"▾\";}#sk-container-id-6 div.sk-estimator input.sk-toggleable__control:checked~label.sk-toggleable__label {background-color: #d4ebff;}#sk-container-id-6 div.sk-label input.sk-toggleable__control:checked~label.sk-toggleable__label {background-color: #d4ebff;}#sk-container-id-6 input.sk-hidden--visually {border: 0;clip: rect(1px 1px 1px 1px);clip: rect(1px, 1px, 1px, 1px);height: 1px;margin: -1px;overflow: hidden;padding: 0;position: absolute;width: 1px;}#sk-container-id-6 div.sk-estimator {font-family: monospace;background-color: #f0f8ff;border: 1px dotted black;border-radius: 0.25em;box-sizing: border-box;margin-bottom: 0.5em;}#sk-container-id-6 div.sk-estimator:hover {background-color: #d4ebff;}#sk-container-id-6 div.sk-parallel-item::after {content: \"\";width: 100%;border-bottom: 1px solid gray;flex-grow: 1;}#sk-container-id-6 div.sk-label:hover label.sk-toggleable__label {background-color: #d4ebff;}#sk-container-id-6 div.sk-serial::before {content: \"\";position: absolute;border-left: 1px solid gray;box-sizing: border-box;top: 0;bottom: 0;left: 50%;z-index: 0;}#sk-container-id-6 div.sk-serial {display: flex;flex-direction: column;align-items: center;background-color: white;padding-right: 0.2em;padding-left: 0.2em;position: relative;}#sk-container-id-6 div.sk-item {position: relative;z-index: 1;}#sk-container-id-6 div.sk-parallel {display: flex;align-items: stretch;justify-content: center;background-color: white;position: relative;}#sk-container-id-6 div.sk-item::before, #sk-container-id-6 div.sk-parallel-item::before {content: \"\";position: absolute;border-left: 1px solid gray;box-sizing: border-box;top: 0;bottom: 0;left: 50%;z-index: -1;}#sk-container-id-6 div.sk-parallel-item {display: flex;flex-direction: column;z-index: 1;position: relative;background-color: white;}#sk-container-id-6 div.sk-parallel-item:first-child::after {align-self: flex-end;width: 50%;}#sk-container-id-6 div.sk-parallel-item:last-child::after {align-self: flex-start;width: 50%;}#sk-container-id-6 div.sk-parallel-item:only-child::after {width: 0;}#sk-container-id-6 div.sk-dashed-wrapped {border: 1px dashed gray;margin: 0 0.4em 0.5em 0.4em;box-sizing: border-box;padding-bottom: 0.4em;background-color: white;}#sk-container-id-6 div.sk-label label {font-family: monospace;font-weight: bold;display: inline-block;line-height: 1.2em;}#sk-container-id-6 div.sk-label-container {text-align: center;}#sk-container-id-6 div.sk-container {/* jupyter's `normalize.less` sets `[hidden] { display: none; }` but bootstrap.min.css set `[hidden] { display: none !important; }` so we also need the `!important` here to be able to override the default hidden behavior on the sphinx rendered scikit-learn.org. See: https://github.com/scikit-learn/scikit-learn/issues/21755 */display: inline-block !important;position: relative;}#sk-container-id-6 div.sk-text-repr-fallback {display: none;}</style><div id=\"sk-container-id-6\" class=\"sk-top-container\"><div class=\"sk-text-repr-fallback\"><pre>StandardScaler()</pre><b>In a Jupyter environment, please rerun this cell to show the HTML representation or trust the notebook. <br />On GitHub, the HTML representation is unable to render, please try loading this page with nbviewer.org.</b></div><div class=\"sk-container\" hidden><div class=\"sk-item\"><div class=\"sk-estimator sk-toggleable\"><input class=\"sk-toggleable__control sk-hidden--visually\" id=\"sk-estimator-id-6\" type=\"checkbox\" checked><label for=\"sk-estimator-id-6\" class=\"sk-toggleable__label sk-toggleable__label-arrow\">StandardScaler</label><div class=\"sk-toggleable__content\"><pre>StandardScaler()</pre></div></div></div></div></div>"
      ],
      "text/plain": [
       "StandardScaler()"
      ]
     },
     "execution_count": 86,
     "metadata": {},
     "output_type": "execute_result"
    }
   ],
   "source": [
    "scaler = StandardScaler()\n",
    "scaler.fit(features)"
   ]
  },
  {
   "cell_type": "code",
   "execution_count": 87,
   "id": "2f4dd57c-a3ea-4c65-a7db-6be92ea40e60",
   "metadata": {
    "tags": []
   },
   "outputs": [],
   "source": [
    "scaled_features = scaler.transform(features)\n",
    "scaled_features = features"
   ]
  },
  {
   "cell_type": "markdown",
   "id": "0cdda48e-eae1-45c5-bc1f-f89237fa0105",
   "metadata": {},
   "source": [
    "# **Training**"
   ]
  },
  {
   "cell_type": "code",
   "execution_count": 88,
   "id": "c4158ef3-fb70-4c10-937b-90251c873e34",
   "metadata": {
    "tags": []
   },
   "outputs": [],
   "source": [
    "from sklearn.ensemble import RandomForestRegressor\n",
    "from sklearn.metrics import r2_score\n",
    "from sklearn.model_selection import train_test_split\n",
    "import tensorflow as tf\n",
    "from tensorflow.keras.models import Sequential\n",
    "from tensorflow.keras.layers import Dense, Dropout, Concatenate, Input\n",
    "from tensorflow.keras.optimizers import Adam\n",
    "from tensorflow.keras.models import Model\n",
    "from tensorflow.keras.callbacks import ReduceLROnPlateau, ModelCheckpoint"
   ]
  },
  {
   "cell_type": "markdown",
   "id": "3852887b-56b7-4acf-8acd-c404bb172e26",
   "metadata": {},
   "source": [
    "## **Train Test Split**"
   ]
  },
  {
   "cell_type": "code",
   "execution_count": 89,
   "id": "a9919600-a59f-4ea4-8e76-ea88f2c33619",
   "metadata": {
    "tags": []
   },
   "outputs": [],
   "source": [
    "X_train, X_test, y_th_train, y_th_test, y_qt_train, y_qt_test, y_ck_train, y_ck_test, y_tbtl_train, y_tbtl_test = train_test_split(\n",
    "    scaled_features, labels_th, labels_qt, labels_ck, labels_tbtl, test_size=0.2, random_state=2024)"
   ]
  },
  {
   "cell_type": "markdown",
   "id": "ba123a28-64c4-4313-a97e-e981f6d78d7b",
   "metadata": {},
   "source": [
    "## **Random Forest TH**"
   ]
  },
  {
   "cell_type": "code",
   "execution_count": 90,
   "id": "79b6590d-bf89-407f-9336-f9351c7b3aa6",
   "metadata": {
    "tags": []
   },
   "outputs": [
    {
     "data": {
      "text/html": [
       "<style>#sk-container-id-7 {color: black;background-color: white;}#sk-container-id-7 pre{padding: 0;}#sk-container-id-7 div.sk-toggleable {background-color: white;}#sk-container-id-7 label.sk-toggleable__label {cursor: pointer;display: block;width: 100%;margin-bottom: 0;padding: 0.3em;box-sizing: border-box;text-align: center;}#sk-container-id-7 label.sk-toggleable__label-arrow:before {content: \"▸\";float: left;margin-right: 0.25em;color: #696969;}#sk-container-id-7 label.sk-toggleable__label-arrow:hover:before {color: black;}#sk-container-id-7 div.sk-estimator:hover label.sk-toggleable__label-arrow:before {color: black;}#sk-container-id-7 div.sk-toggleable__content {max-height: 0;max-width: 0;overflow: hidden;text-align: left;background-color: #f0f8ff;}#sk-container-id-7 div.sk-toggleable__content pre {margin: 0.2em;color: black;border-radius: 0.25em;background-color: #f0f8ff;}#sk-container-id-7 input.sk-toggleable__control:checked~div.sk-toggleable__content {max-height: 200px;max-width: 100%;overflow: auto;}#sk-container-id-7 input.sk-toggleable__control:checked~label.sk-toggleable__label-arrow:before {content: \"▾\";}#sk-container-id-7 div.sk-estimator input.sk-toggleable__control:checked~label.sk-toggleable__label {background-color: #d4ebff;}#sk-container-id-7 div.sk-label input.sk-toggleable__control:checked~label.sk-toggleable__label {background-color: #d4ebff;}#sk-container-id-7 input.sk-hidden--visually {border: 0;clip: rect(1px 1px 1px 1px);clip: rect(1px, 1px, 1px, 1px);height: 1px;margin: -1px;overflow: hidden;padding: 0;position: absolute;width: 1px;}#sk-container-id-7 div.sk-estimator {font-family: monospace;background-color: #f0f8ff;border: 1px dotted black;border-radius: 0.25em;box-sizing: border-box;margin-bottom: 0.5em;}#sk-container-id-7 div.sk-estimator:hover {background-color: #d4ebff;}#sk-container-id-7 div.sk-parallel-item::after {content: \"\";width: 100%;border-bottom: 1px solid gray;flex-grow: 1;}#sk-container-id-7 div.sk-label:hover label.sk-toggleable__label {background-color: #d4ebff;}#sk-container-id-7 div.sk-serial::before {content: \"\";position: absolute;border-left: 1px solid gray;box-sizing: border-box;top: 0;bottom: 0;left: 50%;z-index: 0;}#sk-container-id-7 div.sk-serial {display: flex;flex-direction: column;align-items: center;background-color: white;padding-right: 0.2em;padding-left: 0.2em;position: relative;}#sk-container-id-7 div.sk-item {position: relative;z-index: 1;}#sk-container-id-7 div.sk-parallel {display: flex;align-items: stretch;justify-content: center;background-color: white;position: relative;}#sk-container-id-7 div.sk-item::before, #sk-container-id-7 div.sk-parallel-item::before {content: \"\";position: absolute;border-left: 1px solid gray;box-sizing: border-box;top: 0;bottom: 0;left: 50%;z-index: -1;}#sk-container-id-7 div.sk-parallel-item {display: flex;flex-direction: column;z-index: 1;position: relative;background-color: white;}#sk-container-id-7 div.sk-parallel-item:first-child::after {align-self: flex-end;width: 50%;}#sk-container-id-7 div.sk-parallel-item:last-child::after {align-self: flex-start;width: 50%;}#sk-container-id-7 div.sk-parallel-item:only-child::after {width: 0;}#sk-container-id-7 div.sk-dashed-wrapped {border: 1px dashed gray;margin: 0 0.4em 0.5em 0.4em;box-sizing: border-box;padding-bottom: 0.4em;background-color: white;}#sk-container-id-7 div.sk-label label {font-family: monospace;font-weight: bold;display: inline-block;line-height: 1.2em;}#sk-container-id-7 div.sk-label-container {text-align: center;}#sk-container-id-7 div.sk-container {/* jupyter's `normalize.less` sets `[hidden] { display: none; }` but bootstrap.min.css set `[hidden] { display: none !important; }` so we also need the `!important` here to be able to override the default hidden behavior on the sphinx rendered scikit-learn.org. See: https://github.com/scikit-learn/scikit-learn/issues/21755 */display: inline-block !important;position: relative;}#sk-container-id-7 div.sk-text-repr-fallback {display: none;}</style><div id=\"sk-container-id-7\" class=\"sk-top-container\"><div class=\"sk-text-repr-fallback\"><pre>RandomForestRegressor(n_estimators=200, random_state=42)</pre><b>In a Jupyter environment, please rerun this cell to show the HTML representation or trust the notebook. <br />On GitHub, the HTML representation is unable to render, please try loading this page with nbviewer.org.</b></div><div class=\"sk-container\" hidden><div class=\"sk-item\"><div class=\"sk-estimator sk-toggleable\"><input class=\"sk-toggleable__control sk-hidden--visually\" id=\"sk-estimator-id-7\" type=\"checkbox\" checked><label for=\"sk-estimator-id-7\" class=\"sk-toggleable__label sk-toggleable__label-arrow\">RandomForestRegressor</label><div class=\"sk-toggleable__content\"><pre>RandomForestRegressor(n_estimators=200, random_state=42)</pre></div></div></div></div></div>"
      ],
      "text/plain": [
       "RandomForestRegressor(n_estimators=200, random_state=42)"
      ]
     },
     "execution_count": 90,
     "metadata": {},
     "output_type": "execute_result"
    }
   ],
   "source": [
    "rf_model_TH = RandomForestRegressor(n_estimators=200, random_state=42)\n",
    "rf_model_TH.fit(X_train, y_th_train)"
   ]
  },
  {
   "cell_type": "markdown",
   "id": "3722c3ac-fd21-4c53-98ca-80e75375f2c5",
   "metadata": {},
   "source": [
    "### **Evaluation**"
   ]
  },
  {
   "cell_type": "code",
   "execution_count": 91,
   "id": "e490f84c-4fa8-499d-a2b7-2384d3fce7f2",
   "metadata": {},
   "outputs": [
    {
     "name": "stdout",
     "output_type": "stream",
     "text": [
      "R2 for TH: 0.6320531347731955\n"
     ]
    }
   ],
   "source": [
    "predictions = rf_model_TH.predict(X_test)\n",
    "r2_th = r2_score(y_th_test, predictions)\n",
    "print(f\"R2 for TH: {r2_th}\")"
   ]
  },
  {
   "cell_type": "markdown",
   "id": "4d620ad6-78be-452b-8326-b58470ed08e0",
   "metadata": {},
   "source": [
    "## **Random Forest QT**"
   ]
  },
  {
   "cell_type": "code",
   "execution_count": 92,
   "id": "f9cee031-4d10-4e47-8e9f-15c3b702a0fc",
   "metadata": {},
   "outputs": [
    {
     "data": {
      "text/html": [
       "<style>#sk-container-id-8 {color: black;background-color: white;}#sk-container-id-8 pre{padding: 0;}#sk-container-id-8 div.sk-toggleable {background-color: white;}#sk-container-id-8 label.sk-toggleable__label {cursor: pointer;display: block;width: 100%;margin-bottom: 0;padding: 0.3em;box-sizing: border-box;text-align: center;}#sk-container-id-8 label.sk-toggleable__label-arrow:before {content: \"▸\";float: left;margin-right: 0.25em;color: #696969;}#sk-container-id-8 label.sk-toggleable__label-arrow:hover:before {color: black;}#sk-container-id-8 div.sk-estimator:hover label.sk-toggleable__label-arrow:before {color: black;}#sk-container-id-8 div.sk-toggleable__content {max-height: 0;max-width: 0;overflow: hidden;text-align: left;background-color: #f0f8ff;}#sk-container-id-8 div.sk-toggleable__content pre {margin: 0.2em;color: black;border-radius: 0.25em;background-color: #f0f8ff;}#sk-container-id-8 input.sk-toggleable__control:checked~div.sk-toggleable__content {max-height: 200px;max-width: 100%;overflow: auto;}#sk-container-id-8 input.sk-toggleable__control:checked~label.sk-toggleable__label-arrow:before {content: \"▾\";}#sk-container-id-8 div.sk-estimator input.sk-toggleable__control:checked~label.sk-toggleable__label {background-color: #d4ebff;}#sk-container-id-8 div.sk-label input.sk-toggleable__control:checked~label.sk-toggleable__label {background-color: #d4ebff;}#sk-container-id-8 input.sk-hidden--visually {border: 0;clip: rect(1px 1px 1px 1px);clip: rect(1px, 1px, 1px, 1px);height: 1px;margin: -1px;overflow: hidden;padding: 0;position: absolute;width: 1px;}#sk-container-id-8 div.sk-estimator {font-family: monospace;background-color: #f0f8ff;border: 1px dotted black;border-radius: 0.25em;box-sizing: border-box;margin-bottom: 0.5em;}#sk-container-id-8 div.sk-estimator:hover {background-color: #d4ebff;}#sk-container-id-8 div.sk-parallel-item::after {content: \"\";width: 100%;border-bottom: 1px solid gray;flex-grow: 1;}#sk-container-id-8 div.sk-label:hover label.sk-toggleable__label {background-color: #d4ebff;}#sk-container-id-8 div.sk-serial::before {content: \"\";position: absolute;border-left: 1px solid gray;box-sizing: border-box;top: 0;bottom: 0;left: 50%;z-index: 0;}#sk-container-id-8 div.sk-serial {display: flex;flex-direction: column;align-items: center;background-color: white;padding-right: 0.2em;padding-left: 0.2em;position: relative;}#sk-container-id-8 div.sk-item {position: relative;z-index: 1;}#sk-container-id-8 div.sk-parallel {display: flex;align-items: stretch;justify-content: center;background-color: white;position: relative;}#sk-container-id-8 div.sk-item::before, #sk-container-id-8 div.sk-parallel-item::before {content: \"\";position: absolute;border-left: 1px solid gray;box-sizing: border-box;top: 0;bottom: 0;left: 50%;z-index: -1;}#sk-container-id-8 div.sk-parallel-item {display: flex;flex-direction: column;z-index: 1;position: relative;background-color: white;}#sk-container-id-8 div.sk-parallel-item:first-child::after {align-self: flex-end;width: 50%;}#sk-container-id-8 div.sk-parallel-item:last-child::after {align-self: flex-start;width: 50%;}#sk-container-id-8 div.sk-parallel-item:only-child::after {width: 0;}#sk-container-id-8 div.sk-dashed-wrapped {border: 1px dashed gray;margin: 0 0.4em 0.5em 0.4em;box-sizing: border-box;padding-bottom: 0.4em;background-color: white;}#sk-container-id-8 div.sk-label label {font-family: monospace;font-weight: bold;display: inline-block;line-height: 1.2em;}#sk-container-id-8 div.sk-label-container {text-align: center;}#sk-container-id-8 div.sk-container {/* jupyter's `normalize.less` sets `[hidden] { display: none; }` but bootstrap.min.css set `[hidden] { display: none !important; }` so we also need the `!important` here to be able to override the default hidden behavior on the sphinx rendered scikit-learn.org. See: https://github.com/scikit-learn/scikit-learn/issues/21755 */display: inline-block !important;position: relative;}#sk-container-id-8 div.sk-text-repr-fallback {display: none;}</style><div id=\"sk-container-id-8\" class=\"sk-top-container\"><div class=\"sk-text-repr-fallback\"><pre>RandomForestRegressor(n_estimators=200, random_state=42)</pre><b>In a Jupyter environment, please rerun this cell to show the HTML representation or trust the notebook. <br />On GitHub, the HTML representation is unable to render, please try loading this page with nbviewer.org.</b></div><div class=\"sk-container\" hidden><div class=\"sk-item\"><div class=\"sk-estimator sk-toggleable\"><input class=\"sk-toggleable__control sk-hidden--visually\" id=\"sk-estimator-id-8\" type=\"checkbox\" checked><label for=\"sk-estimator-id-8\" class=\"sk-toggleable__label sk-toggleable__label-arrow\">RandomForestRegressor</label><div class=\"sk-toggleable__content\"><pre>RandomForestRegressor(n_estimators=200, random_state=42)</pre></div></div></div></div></div>"
      ],
      "text/plain": [
       "RandomForestRegressor(n_estimators=200, random_state=42)"
      ]
     },
     "execution_count": 92,
     "metadata": {},
     "output_type": "execute_result"
    }
   ],
   "source": [
    "train_predictions = rf_model_TH.predict(X_train)\n",
    "X_train_QT = []\n",
    "for i in range(train_predictions.shape[0]):\n",
    "    tmp = list(X_train[i])\n",
    "    tmp.append(train_predictions[i])\n",
    "    X_train_QT.append(tmp)\n",
    "rf_model_QT = RandomForestRegressor(n_estimators=200, random_state=42)\n",
    "rf_model_QT.fit(X_train_QT, y_qt_train)"
   ]
  },
  {
   "cell_type": "markdown",
   "id": "2d504cb6-aafd-4652-b9ca-e90c2d0b6bbe",
   "metadata": {},
   "source": [
    "### **Evaluation**"
   ]
  },
  {
   "cell_type": "code",
   "execution_count": 93,
   "id": "be4cf715-19cb-4ce0-9fb5-f3605af47be8",
   "metadata": {},
   "outputs": [
    {
     "name": "stdout",
     "output_type": "stream",
     "text": [
      "R2 for QT: 0.8002104000036389\n"
     ]
    }
   ],
   "source": [
    "X_test_QT = []\n",
    "for i in range(predictions.shape[0]):\n",
    "    tmp = list(X_test[i])\n",
    "    tmp.append(predictions[i])\n",
    "    X_test_QT.append(tmp)\n",
    "predictions = rf_model_QT.predict(X_test_QT)\n",
    "r2_qt = r2_score(y_qt_test, predictions)\n",
    "print(f\"R2 for QT: {r2_qt}\")"
   ]
  },
  {
   "cell_type": "markdown",
   "id": "3992d883-da6e-46c0-ba68-c55fccc7ec4f",
   "metadata": {},
   "source": [
    "## **Random Forest CK**"
   ]
  },
  {
   "cell_type": "code",
   "execution_count": 94,
   "id": "ee79b957-4dd7-44c5-b2fb-d7ec10a40c56",
   "metadata": {},
   "outputs": [
    {
     "data": {
      "text/html": [
       "<style>#sk-container-id-9 {color: black;background-color: white;}#sk-container-id-9 pre{padding: 0;}#sk-container-id-9 div.sk-toggleable {background-color: white;}#sk-container-id-9 label.sk-toggleable__label {cursor: pointer;display: block;width: 100%;margin-bottom: 0;padding: 0.3em;box-sizing: border-box;text-align: center;}#sk-container-id-9 label.sk-toggleable__label-arrow:before {content: \"▸\";float: left;margin-right: 0.25em;color: #696969;}#sk-container-id-9 label.sk-toggleable__label-arrow:hover:before {color: black;}#sk-container-id-9 div.sk-estimator:hover label.sk-toggleable__label-arrow:before {color: black;}#sk-container-id-9 div.sk-toggleable__content {max-height: 0;max-width: 0;overflow: hidden;text-align: left;background-color: #f0f8ff;}#sk-container-id-9 div.sk-toggleable__content pre {margin: 0.2em;color: black;border-radius: 0.25em;background-color: #f0f8ff;}#sk-container-id-9 input.sk-toggleable__control:checked~div.sk-toggleable__content {max-height: 200px;max-width: 100%;overflow: auto;}#sk-container-id-9 input.sk-toggleable__control:checked~label.sk-toggleable__label-arrow:before {content: \"▾\";}#sk-container-id-9 div.sk-estimator input.sk-toggleable__control:checked~label.sk-toggleable__label {background-color: #d4ebff;}#sk-container-id-9 div.sk-label input.sk-toggleable__control:checked~label.sk-toggleable__label {background-color: #d4ebff;}#sk-container-id-9 input.sk-hidden--visually {border: 0;clip: rect(1px 1px 1px 1px);clip: rect(1px, 1px, 1px, 1px);height: 1px;margin: -1px;overflow: hidden;padding: 0;position: absolute;width: 1px;}#sk-container-id-9 div.sk-estimator {font-family: monospace;background-color: #f0f8ff;border: 1px dotted black;border-radius: 0.25em;box-sizing: border-box;margin-bottom: 0.5em;}#sk-container-id-9 div.sk-estimator:hover {background-color: #d4ebff;}#sk-container-id-9 div.sk-parallel-item::after {content: \"\";width: 100%;border-bottom: 1px solid gray;flex-grow: 1;}#sk-container-id-9 div.sk-label:hover label.sk-toggleable__label {background-color: #d4ebff;}#sk-container-id-9 div.sk-serial::before {content: \"\";position: absolute;border-left: 1px solid gray;box-sizing: border-box;top: 0;bottom: 0;left: 50%;z-index: 0;}#sk-container-id-9 div.sk-serial {display: flex;flex-direction: column;align-items: center;background-color: white;padding-right: 0.2em;padding-left: 0.2em;position: relative;}#sk-container-id-9 div.sk-item {position: relative;z-index: 1;}#sk-container-id-9 div.sk-parallel {display: flex;align-items: stretch;justify-content: center;background-color: white;position: relative;}#sk-container-id-9 div.sk-item::before, #sk-container-id-9 div.sk-parallel-item::before {content: \"\";position: absolute;border-left: 1px solid gray;box-sizing: border-box;top: 0;bottom: 0;left: 50%;z-index: -1;}#sk-container-id-9 div.sk-parallel-item {display: flex;flex-direction: column;z-index: 1;position: relative;background-color: white;}#sk-container-id-9 div.sk-parallel-item:first-child::after {align-self: flex-end;width: 50%;}#sk-container-id-9 div.sk-parallel-item:last-child::after {align-self: flex-start;width: 50%;}#sk-container-id-9 div.sk-parallel-item:only-child::after {width: 0;}#sk-container-id-9 div.sk-dashed-wrapped {border: 1px dashed gray;margin: 0 0.4em 0.5em 0.4em;box-sizing: border-box;padding-bottom: 0.4em;background-color: white;}#sk-container-id-9 div.sk-label label {font-family: monospace;font-weight: bold;display: inline-block;line-height: 1.2em;}#sk-container-id-9 div.sk-label-container {text-align: center;}#sk-container-id-9 div.sk-container {/* jupyter's `normalize.less` sets `[hidden] { display: none; }` but bootstrap.min.css set `[hidden] { display: none !important; }` so we also need the `!important` here to be able to override the default hidden behavior on the sphinx rendered scikit-learn.org. See: https://github.com/scikit-learn/scikit-learn/issues/21755 */display: inline-block !important;position: relative;}#sk-container-id-9 div.sk-text-repr-fallback {display: none;}</style><div id=\"sk-container-id-9\" class=\"sk-top-container\"><div class=\"sk-text-repr-fallback\"><pre>RandomForestRegressor(n_estimators=200, random_state=42)</pre><b>In a Jupyter environment, please rerun this cell to show the HTML representation or trust the notebook. <br />On GitHub, the HTML representation is unable to render, please try loading this page with nbviewer.org.</b></div><div class=\"sk-container\" hidden><div class=\"sk-item\"><div class=\"sk-estimator sk-toggleable\"><input class=\"sk-toggleable__control sk-hidden--visually\" id=\"sk-estimator-id-9\" type=\"checkbox\" checked><label for=\"sk-estimator-id-9\" class=\"sk-toggleable__label sk-toggleable__label-arrow\">RandomForestRegressor</label><div class=\"sk-toggleable__content\"><pre>RandomForestRegressor(n_estimators=200, random_state=42)</pre></div></div></div></div></div>"
      ],
      "text/plain": [
       "RandomForestRegressor(n_estimators=200, random_state=42)"
      ]
     },
     "execution_count": 94,
     "metadata": {},
     "output_type": "execute_result"
    }
   ],
   "source": [
    "train_predictions = rf_model_QT.predict(X_train_QT)\n",
    "X_train_CK = []\n",
    "for i in range(train_predictions.shape[0]):\n",
    "    tmp = list(X_train_QT[i])\n",
    "    tmp.append(train_predictions[i])\n",
    "    X_train_CK.append(tmp)\n",
    "rf_model_CK = RandomForestRegressor(n_estimators=200, random_state=42)\n",
    "rf_model_CK.fit(X_train_CK, y_ck_train)"
   ]
  },
  {
   "cell_type": "markdown",
   "id": "1ac8a13b-ba8a-4375-bf79-80b49c849574",
   "metadata": {},
   "source": [
    "### **Evaluation**"
   ]
  },
  {
   "cell_type": "code",
   "execution_count": 95,
   "id": "df7d71db-6394-4b7c-8ad4-1b62b284ce9b",
   "metadata": {},
   "outputs": [
    {
     "name": "stdout",
     "output_type": "stream",
     "text": [
      "R2 for CK: 0.5635332138167342\n"
     ]
    }
   ],
   "source": [
    "X_test_CK = []\n",
    "for i in range(predictions.shape[0]):\n",
    "    tmp = list(X_test_QT[i])\n",
    "    tmp.append(predictions[i])\n",
    "    X_test_CK.append(tmp)\n",
    "predictions = rf_model_CK.predict(X_test_CK)\n",
    "r2_ck = r2_score(y_ck_test, predictions)\n",
    "print(f\"R2 for CK: {r2_ck}\")"
   ]
  },
  {
   "cell_type": "markdown",
   "id": "6ae6cb33-5f87-4465-b41a-6cf9dce429fd",
   "metadata": {},
   "source": [
    "## **Random Forest TBTL**"
   ]
  },
  {
   "cell_type": "code",
   "execution_count": 96,
   "id": "6dcf29d3-466b-495b-8227-45c90f732ec2",
   "metadata": {},
   "outputs": [
    {
     "data": {
      "text/html": [
       "<style>#sk-container-id-10 {color: black;background-color: white;}#sk-container-id-10 pre{padding: 0;}#sk-container-id-10 div.sk-toggleable {background-color: white;}#sk-container-id-10 label.sk-toggleable__label {cursor: pointer;display: block;width: 100%;margin-bottom: 0;padding: 0.3em;box-sizing: border-box;text-align: center;}#sk-container-id-10 label.sk-toggleable__label-arrow:before {content: \"▸\";float: left;margin-right: 0.25em;color: #696969;}#sk-container-id-10 label.sk-toggleable__label-arrow:hover:before {color: black;}#sk-container-id-10 div.sk-estimator:hover label.sk-toggleable__label-arrow:before {color: black;}#sk-container-id-10 div.sk-toggleable__content {max-height: 0;max-width: 0;overflow: hidden;text-align: left;background-color: #f0f8ff;}#sk-container-id-10 div.sk-toggleable__content pre {margin: 0.2em;color: black;border-radius: 0.25em;background-color: #f0f8ff;}#sk-container-id-10 input.sk-toggleable__control:checked~div.sk-toggleable__content {max-height: 200px;max-width: 100%;overflow: auto;}#sk-container-id-10 input.sk-toggleable__control:checked~label.sk-toggleable__label-arrow:before {content: \"▾\";}#sk-container-id-10 div.sk-estimator input.sk-toggleable__control:checked~label.sk-toggleable__label {background-color: #d4ebff;}#sk-container-id-10 div.sk-label input.sk-toggleable__control:checked~label.sk-toggleable__label {background-color: #d4ebff;}#sk-container-id-10 input.sk-hidden--visually {border: 0;clip: rect(1px 1px 1px 1px);clip: rect(1px, 1px, 1px, 1px);height: 1px;margin: -1px;overflow: hidden;padding: 0;position: absolute;width: 1px;}#sk-container-id-10 div.sk-estimator {font-family: monospace;background-color: #f0f8ff;border: 1px dotted black;border-radius: 0.25em;box-sizing: border-box;margin-bottom: 0.5em;}#sk-container-id-10 div.sk-estimator:hover {background-color: #d4ebff;}#sk-container-id-10 div.sk-parallel-item::after {content: \"\";width: 100%;border-bottom: 1px solid gray;flex-grow: 1;}#sk-container-id-10 div.sk-label:hover label.sk-toggleable__label {background-color: #d4ebff;}#sk-container-id-10 div.sk-serial::before {content: \"\";position: absolute;border-left: 1px solid gray;box-sizing: border-box;top: 0;bottom: 0;left: 50%;z-index: 0;}#sk-container-id-10 div.sk-serial {display: flex;flex-direction: column;align-items: center;background-color: white;padding-right: 0.2em;padding-left: 0.2em;position: relative;}#sk-container-id-10 div.sk-item {position: relative;z-index: 1;}#sk-container-id-10 div.sk-parallel {display: flex;align-items: stretch;justify-content: center;background-color: white;position: relative;}#sk-container-id-10 div.sk-item::before, #sk-container-id-10 div.sk-parallel-item::before {content: \"\";position: absolute;border-left: 1px solid gray;box-sizing: border-box;top: 0;bottom: 0;left: 50%;z-index: -1;}#sk-container-id-10 div.sk-parallel-item {display: flex;flex-direction: column;z-index: 1;position: relative;background-color: white;}#sk-container-id-10 div.sk-parallel-item:first-child::after {align-self: flex-end;width: 50%;}#sk-container-id-10 div.sk-parallel-item:last-child::after {align-self: flex-start;width: 50%;}#sk-container-id-10 div.sk-parallel-item:only-child::after {width: 0;}#sk-container-id-10 div.sk-dashed-wrapped {border: 1px dashed gray;margin: 0 0.4em 0.5em 0.4em;box-sizing: border-box;padding-bottom: 0.4em;background-color: white;}#sk-container-id-10 div.sk-label label {font-family: monospace;font-weight: bold;display: inline-block;line-height: 1.2em;}#sk-container-id-10 div.sk-label-container {text-align: center;}#sk-container-id-10 div.sk-container {/* jupyter's `normalize.less` sets `[hidden] { display: none; }` but bootstrap.min.css set `[hidden] { display: none !important; }` so we also need the `!important` here to be able to override the default hidden behavior on the sphinx rendered scikit-learn.org. See: https://github.com/scikit-learn/scikit-learn/issues/21755 */display: inline-block !important;position: relative;}#sk-container-id-10 div.sk-text-repr-fallback {display: none;}</style><div id=\"sk-container-id-10\" class=\"sk-top-container\"><div class=\"sk-text-repr-fallback\"><pre>RandomForestRegressor(n_estimators=200, random_state=42)</pre><b>In a Jupyter environment, please rerun this cell to show the HTML representation or trust the notebook. <br />On GitHub, the HTML representation is unable to render, please try loading this page with nbviewer.org.</b></div><div class=\"sk-container\" hidden><div class=\"sk-item\"><div class=\"sk-estimator sk-toggleable\"><input class=\"sk-toggleable__control sk-hidden--visually\" id=\"sk-estimator-id-10\" type=\"checkbox\" checked><label for=\"sk-estimator-id-10\" class=\"sk-toggleable__label sk-toggleable__label-arrow\">RandomForestRegressor</label><div class=\"sk-toggleable__content\"><pre>RandomForestRegressor(n_estimators=200, random_state=42)</pre></div></div></div></div></div>"
      ],
      "text/plain": [
       "RandomForestRegressor(n_estimators=200, random_state=42)"
      ]
     },
     "execution_count": 96,
     "metadata": {},
     "output_type": "execute_result"
    }
   ],
   "source": [
    "train_predictions = rf_model_CK.predict(X_train_CK)\n",
    "X_train_TBTL = []\n",
    "for i in range(train_predictions.shape[0]):\n",
    "    tmp = list(X_train_CK[i])\n",
    "    tmp.append(train_predictions[i])\n",
    "    X_train_TBTL.append(tmp)\n",
    "rf_model_TBTL = RandomForestRegressor(n_estimators=200, random_state=42)\n",
    "rf_model_TBTL.fit(X_train_TBTL, y_tbtl_train)"
   ]
  },
  {
   "cell_type": "markdown",
   "id": "a8d04f87-68a2-4528-8339-d90717355385",
   "metadata": {},
   "source": [
    "### **Evaluation**"
   ]
  },
  {
   "cell_type": "code",
   "execution_count": 97,
   "id": "36de1d13-ee10-4ca4-a5f2-e09cf64cff25",
   "metadata": {},
   "outputs": [
    {
     "name": "stdout",
     "output_type": "stream",
     "text": [
      "R2 for TBTL: 0.9356761351647029\n"
     ]
    }
   ],
   "source": [
    "X_test_TBTL = []\n",
    "for i in range(predictions.shape[0]):\n",
    "    tmp = list(X_test_CK[i])\n",
    "    tmp.append(predictions[i])\n",
    "    X_test_TBTL.append(tmp)\n",
    "predictions = rf_model_TBTL.predict(X_test_TBTL)\n",
    "r2_tbtl = r2_score(y_tbtl_test, predictions)\n",
    "print(f\"R2 for TBTL: {r2_tbtl}\")"
   ]
  },
  {
   "cell_type": "markdown",
   "id": "0091f214-e493-4acb-9372-e8c570cf856c",
   "metadata": {
    "tags": []
   },
   "source": [
    "## **Deep Neural Network**"
   ]
  },
  {
   "cell_type": "code",
   "execution_count": 98,
   "id": "3860e7f0-5fc0-4aed-83c3-aa0716a0624a",
   "metadata": {},
   "outputs": [],
   "source": [
    "# Định nghĩa các đầu vào và các tầng của mô hình\n",
    "input_layer = Input(shape=(features.shape[1],))\n",
    "\n",
    "# Dự đoán TH\n",
    "th_dense = Dense(64, activation='tanh')(input_layer)\n",
    "th_dense = Dropout(0.25)(th_dense)\n",
    "th_dense = Dense(32, activation='tanh')(th_dense)\n",
    "th_dense = Dropout(0.25)(th_dense)\n",
    "th_dense = Dense(16, activation='relu')(th_dense)\n",
    "th_dense = Dropout(0.25)(th_dense)\n",
    "th_output = Dense(1, name='th_output')(th_dense)\n",
    "\n",
    "# Dự đoán QT sử dụng TH và features\n",
    "qt_input = Concatenate()([input_layer, th_output])\n",
    "qt_dense = Dense(64, activation='tanh')(qt_input)\n",
    "qt_dense = Dropout(0.25)(qt_dense)\n",
    "qt_dense = Dense(32, activation='tanh')(qt_dense)\n",
    "qt_dense = Dropout(0.25)(qt_dense)\n",
    "qt_dense = Dense(16, activation='relu')(qt_dense)\n",
    "qt_dense = Dropout(0.25)(qt_dense)\n",
    "qt_output = Dense(1, name='qt_output')(qt_dense)\n",
    "\n",
    "# Dự đoán CK sử dụng QT và features\n",
    "ck_input = Concatenate()([input_layer, qt_output])\n",
    "ck_dense = Dense(64, activation='tanh')(ck_input)\n",
    "ck_dense = Dropout(0.25)(ck_dense)\n",
    "ck_dense = Dense(32, activation='tanh')(ck_dense)\n",
    "ck_dense = Dropout(0.25)(ck_dense)\n",
    "ck_dense = Dense(16, activation='relu')(ck_dense)\n",
    "ck_dense = Dropout(0.25)(ck_dense)\n",
    "ck_output = Dense(1, name='ck_output')(ck_dense)\n",
    "\n",
    "# Dự đoán TBTL sử dụng CK, QT, TH và features\n",
    "tbtl_input = Concatenate()([input_layer, th_output, qt_output, ck_output])\n",
    "tbtl_dense = Dense(64, activation='tanh')(tbtl_input)\n",
    "tbtl_dense = Dropout(0.25)(tbtl_dense)\n",
    "tbtl_dense = Dense(32, activation='tanh')(tbtl_dense)\n",
    "tbtl_dense = Dropout(0.25)(tbtl_dense)\n",
    "tbtl_dense = Dense(16, activation='relu')(tbtl_dense)\n",
    "tbtl_dense = Dropout(0.25)(tbtl_dense)\n",
    "tbtl_output = Dense(1, name='tbtl_output')(tbtl_dense)\n",
    "\n",
    "# Định nghĩa mô hình với 4 đầu ra\n",
    "model = Model(inputs=input_layer, outputs=[th_output, qt_output, ck_output, tbtl_output])"
   ]
  },
  {
   "cell_type": "code",
   "execution_count": 99,
   "id": "94df4798-3c35-478e-9cae-d0321cc91368",
   "metadata": {},
   "outputs": [],
   "source": [
    "class CustomVerboseCallback(tf.keras.callbacks.Callback):\n",
    "    def __init__(self, verbose_interval):\n",
    "        super().__init__()\n",
    "        self.verbose_interval = verbose_interval\n",
    "\n",
    "    def on_epoch_end(self, epoch, logs=None):\n",
    "        if (epoch + 1) % self.verbose_interval == 0:\n",
    "            print(f\"Epoch {epoch + 1}: loss = {logs['loss']}, val_loss = {logs['val_loss']}\")"
   ]
  },
  {
   "cell_type": "code",
   "execution_count": 100,
   "id": "3720ba78-98dc-4a69-89f8-48ede50aa6e6",
   "metadata": {},
   "outputs": [
    {
     "data": {
      "text/html": [
       "<pre style=\"white-space:pre;overflow-x:auto;line-height:normal;font-family:Menlo,'DejaVu Sans Mono',consolas,'Courier New',monospace\"><span style=\"font-weight: bold\">Model: \"functional_9\"</span>\n",
       "</pre>\n"
      ],
      "text/plain": [
       "\u001b[1mModel: \"functional_9\"\u001b[0m\n"
      ]
     },
     "metadata": {},
     "output_type": "display_data"
    },
    {
     "data": {
      "text/html": [
       "<pre style=\"white-space:pre;overflow-x:auto;line-height:normal;font-family:Menlo,'DejaVu Sans Mono',consolas,'Courier New',monospace\">┏━━━━━━━━━━━━━━━━━━━━━━━━━━━━━━━┳━━━━━━━━━━━━━━━━━━━━━━━━━━━┳━━━━━━━━━━━━━━━━━┳━━━━━━━━━━━━━━━━━━━━━━━━━━━━┓\n",
       "┃<span style=\"font-weight: bold\"> Layer (type)                  </span>┃<span style=\"font-weight: bold\"> Output Shape              </span>┃<span style=\"font-weight: bold\">         Param # </span>┃<span style=\"font-weight: bold\"> Connected to               </span>┃\n",
       "┡━━━━━━━━━━━━━━━━━━━━━━━━━━━━━━━╇━━━━━━━━━━━━━━━━━━━━━━━━━━━╇━━━━━━━━━━━━━━━━━╇━━━━━━━━━━━━━━━━━━━━━━━━━━━━┩\n",
       "│ input_layer_4 (<span style=\"color: #0087ff; text-decoration-color: #0087ff\">InputLayer</span>)    │ (<span style=\"color: #00d7ff; text-decoration-color: #00d7ff\">None</span>, <span style=\"color: #00af00; text-decoration-color: #00af00\">8</span>)                 │               <span style=\"color: #00af00; text-decoration-color: #00af00\">0</span> │ -                          │\n",
       "├───────────────────────────────┼───────────────────────────┼─────────────────┼────────────────────────────┤\n",
       "│ dense_48 (<span style=\"color: #0087ff; text-decoration-color: #0087ff\">Dense</span>)              │ (<span style=\"color: #00d7ff; text-decoration-color: #00d7ff\">None</span>, <span style=\"color: #00af00; text-decoration-color: #00af00\">64</span>)                │             <span style=\"color: #00af00; text-decoration-color: #00af00\">576</span> │ input_layer_4[<span style=\"color: #00af00; text-decoration-color: #00af00\">0</span>][<span style=\"color: #00af00; text-decoration-color: #00af00\">0</span>]        │\n",
       "├───────────────────────────────┼───────────────────────────┼─────────────────┼────────────────────────────┤\n",
       "│ dropout (<span style=\"color: #0087ff; text-decoration-color: #0087ff\">Dropout</span>)             │ (<span style=\"color: #00d7ff; text-decoration-color: #00d7ff\">None</span>, <span style=\"color: #00af00; text-decoration-color: #00af00\">64</span>)                │               <span style=\"color: #00af00; text-decoration-color: #00af00\">0</span> │ dense_48[<span style=\"color: #00af00; text-decoration-color: #00af00\">0</span>][<span style=\"color: #00af00; text-decoration-color: #00af00\">0</span>]             │\n",
       "├───────────────────────────────┼───────────────────────────┼─────────────────┼────────────────────────────┤\n",
       "│ dense_49 (<span style=\"color: #0087ff; text-decoration-color: #0087ff\">Dense</span>)              │ (<span style=\"color: #00d7ff; text-decoration-color: #00d7ff\">None</span>, <span style=\"color: #00af00; text-decoration-color: #00af00\">32</span>)                │           <span style=\"color: #00af00; text-decoration-color: #00af00\">2,080</span> │ dropout[<span style=\"color: #00af00; text-decoration-color: #00af00\">0</span>][<span style=\"color: #00af00; text-decoration-color: #00af00\">0</span>]              │\n",
       "├───────────────────────────────┼───────────────────────────┼─────────────────┼────────────────────────────┤\n",
       "│ dropout_1 (<span style=\"color: #0087ff; text-decoration-color: #0087ff\">Dropout</span>)           │ (<span style=\"color: #00d7ff; text-decoration-color: #00d7ff\">None</span>, <span style=\"color: #00af00; text-decoration-color: #00af00\">32</span>)                │               <span style=\"color: #00af00; text-decoration-color: #00af00\">0</span> │ dense_49[<span style=\"color: #00af00; text-decoration-color: #00af00\">0</span>][<span style=\"color: #00af00; text-decoration-color: #00af00\">0</span>]             │\n",
       "├───────────────────────────────┼───────────────────────────┼─────────────────┼────────────────────────────┤\n",
       "│ dense_50 (<span style=\"color: #0087ff; text-decoration-color: #0087ff\">Dense</span>)              │ (<span style=\"color: #00d7ff; text-decoration-color: #00d7ff\">None</span>, <span style=\"color: #00af00; text-decoration-color: #00af00\">16</span>)                │             <span style=\"color: #00af00; text-decoration-color: #00af00\">528</span> │ dropout_1[<span style=\"color: #00af00; text-decoration-color: #00af00\">0</span>][<span style=\"color: #00af00; text-decoration-color: #00af00\">0</span>]            │\n",
       "├───────────────────────────────┼───────────────────────────┼─────────────────┼────────────────────────────┤\n",
       "│ dropout_2 (<span style=\"color: #0087ff; text-decoration-color: #0087ff\">Dropout</span>)           │ (<span style=\"color: #00d7ff; text-decoration-color: #00d7ff\">None</span>, <span style=\"color: #00af00; text-decoration-color: #00af00\">16</span>)                │               <span style=\"color: #00af00; text-decoration-color: #00af00\">0</span> │ dense_50[<span style=\"color: #00af00; text-decoration-color: #00af00\">0</span>][<span style=\"color: #00af00; text-decoration-color: #00af00\">0</span>]             │\n",
       "├───────────────────────────────┼───────────────────────────┼─────────────────┼────────────────────────────┤\n",
       "│ th_output (<span style=\"color: #0087ff; text-decoration-color: #0087ff\">Dense</span>)             │ (<span style=\"color: #00d7ff; text-decoration-color: #00d7ff\">None</span>, <span style=\"color: #00af00; text-decoration-color: #00af00\">1</span>)                 │              <span style=\"color: #00af00; text-decoration-color: #00af00\">17</span> │ dropout_2[<span style=\"color: #00af00; text-decoration-color: #00af00\">0</span>][<span style=\"color: #00af00; text-decoration-color: #00af00\">0</span>]            │\n",
       "├───────────────────────────────┼───────────────────────────┼─────────────────┼────────────────────────────┤\n",
       "│ concatenate_12 (<span style=\"color: #0087ff; text-decoration-color: #0087ff\">Concatenate</span>)  │ (<span style=\"color: #00d7ff; text-decoration-color: #00d7ff\">None</span>, <span style=\"color: #00af00; text-decoration-color: #00af00\">9</span>)                 │               <span style=\"color: #00af00; text-decoration-color: #00af00\">0</span> │ input_layer_4[<span style=\"color: #00af00; text-decoration-color: #00af00\">0</span>][<span style=\"color: #00af00; text-decoration-color: #00af00\">0</span>],       │\n",
       "│                               │                           │                 │ th_output[<span style=\"color: #00af00; text-decoration-color: #00af00\">0</span>][<span style=\"color: #00af00; text-decoration-color: #00af00\">0</span>]            │\n",
       "├───────────────────────────────┼───────────────────────────┼─────────────────┼────────────────────────────┤\n",
       "│ dense_51 (<span style=\"color: #0087ff; text-decoration-color: #0087ff\">Dense</span>)              │ (<span style=\"color: #00d7ff; text-decoration-color: #00d7ff\">None</span>, <span style=\"color: #00af00; text-decoration-color: #00af00\">64</span>)                │             <span style=\"color: #00af00; text-decoration-color: #00af00\">640</span> │ concatenate_12[<span style=\"color: #00af00; text-decoration-color: #00af00\">0</span>][<span style=\"color: #00af00; text-decoration-color: #00af00\">0</span>]       │\n",
       "├───────────────────────────────┼───────────────────────────┼─────────────────┼────────────────────────────┤\n",
       "│ dropout_3 (<span style=\"color: #0087ff; text-decoration-color: #0087ff\">Dropout</span>)           │ (<span style=\"color: #00d7ff; text-decoration-color: #00d7ff\">None</span>, <span style=\"color: #00af00; text-decoration-color: #00af00\">64</span>)                │               <span style=\"color: #00af00; text-decoration-color: #00af00\">0</span> │ dense_51[<span style=\"color: #00af00; text-decoration-color: #00af00\">0</span>][<span style=\"color: #00af00; text-decoration-color: #00af00\">0</span>]             │\n",
       "├───────────────────────────────┼───────────────────────────┼─────────────────┼────────────────────────────┤\n",
       "│ dense_52 (<span style=\"color: #0087ff; text-decoration-color: #0087ff\">Dense</span>)              │ (<span style=\"color: #00d7ff; text-decoration-color: #00d7ff\">None</span>, <span style=\"color: #00af00; text-decoration-color: #00af00\">32</span>)                │           <span style=\"color: #00af00; text-decoration-color: #00af00\">2,080</span> │ dropout_3[<span style=\"color: #00af00; text-decoration-color: #00af00\">0</span>][<span style=\"color: #00af00; text-decoration-color: #00af00\">0</span>]            │\n",
       "├───────────────────────────────┼───────────────────────────┼─────────────────┼────────────────────────────┤\n",
       "│ dropout_4 (<span style=\"color: #0087ff; text-decoration-color: #0087ff\">Dropout</span>)           │ (<span style=\"color: #00d7ff; text-decoration-color: #00d7ff\">None</span>, <span style=\"color: #00af00; text-decoration-color: #00af00\">32</span>)                │               <span style=\"color: #00af00; text-decoration-color: #00af00\">0</span> │ dense_52[<span style=\"color: #00af00; text-decoration-color: #00af00\">0</span>][<span style=\"color: #00af00; text-decoration-color: #00af00\">0</span>]             │\n",
       "├───────────────────────────────┼───────────────────────────┼─────────────────┼────────────────────────────┤\n",
       "│ dense_53 (<span style=\"color: #0087ff; text-decoration-color: #0087ff\">Dense</span>)              │ (<span style=\"color: #00d7ff; text-decoration-color: #00d7ff\">None</span>, <span style=\"color: #00af00; text-decoration-color: #00af00\">16</span>)                │             <span style=\"color: #00af00; text-decoration-color: #00af00\">528</span> │ dropout_4[<span style=\"color: #00af00; text-decoration-color: #00af00\">0</span>][<span style=\"color: #00af00; text-decoration-color: #00af00\">0</span>]            │\n",
       "├───────────────────────────────┼───────────────────────────┼─────────────────┼────────────────────────────┤\n",
       "│ dropout_5 (<span style=\"color: #0087ff; text-decoration-color: #0087ff\">Dropout</span>)           │ (<span style=\"color: #00d7ff; text-decoration-color: #00d7ff\">None</span>, <span style=\"color: #00af00; text-decoration-color: #00af00\">16</span>)                │               <span style=\"color: #00af00; text-decoration-color: #00af00\">0</span> │ dense_53[<span style=\"color: #00af00; text-decoration-color: #00af00\">0</span>][<span style=\"color: #00af00; text-decoration-color: #00af00\">0</span>]             │\n",
       "├───────────────────────────────┼───────────────────────────┼─────────────────┼────────────────────────────┤\n",
       "│ qt_output (<span style=\"color: #0087ff; text-decoration-color: #0087ff\">Dense</span>)             │ (<span style=\"color: #00d7ff; text-decoration-color: #00d7ff\">None</span>, <span style=\"color: #00af00; text-decoration-color: #00af00\">1</span>)                 │              <span style=\"color: #00af00; text-decoration-color: #00af00\">17</span> │ dropout_5[<span style=\"color: #00af00; text-decoration-color: #00af00\">0</span>][<span style=\"color: #00af00; text-decoration-color: #00af00\">0</span>]            │\n",
       "├───────────────────────────────┼───────────────────────────┼─────────────────┼────────────────────────────┤\n",
       "│ concatenate_13 (<span style=\"color: #0087ff; text-decoration-color: #0087ff\">Concatenate</span>)  │ (<span style=\"color: #00d7ff; text-decoration-color: #00d7ff\">None</span>, <span style=\"color: #00af00; text-decoration-color: #00af00\">9</span>)                 │               <span style=\"color: #00af00; text-decoration-color: #00af00\">0</span> │ input_layer_4[<span style=\"color: #00af00; text-decoration-color: #00af00\">0</span>][<span style=\"color: #00af00; text-decoration-color: #00af00\">0</span>],       │\n",
       "│                               │                           │                 │ qt_output[<span style=\"color: #00af00; text-decoration-color: #00af00\">0</span>][<span style=\"color: #00af00; text-decoration-color: #00af00\">0</span>]            │\n",
       "├───────────────────────────────┼───────────────────────────┼─────────────────┼────────────────────────────┤\n",
       "│ dense_54 (<span style=\"color: #0087ff; text-decoration-color: #0087ff\">Dense</span>)              │ (<span style=\"color: #00d7ff; text-decoration-color: #00d7ff\">None</span>, <span style=\"color: #00af00; text-decoration-color: #00af00\">64</span>)                │             <span style=\"color: #00af00; text-decoration-color: #00af00\">640</span> │ concatenate_13[<span style=\"color: #00af00; text-decoration-color: #00af00\">0</span>][<span style=\"color: #00af00; text-decoration-color: #00af00\">0</span>]       │\n",
       "├───────────────────────────────┼───────────────────────────┼─────────────────┼────────────────────────────┤\n",
       "│ dropout_6 (<span style=\"color: #0087ff; text-decoration-color: #0087ff\">Dropout</span>)           │ (<span style=\"color: #00d7ff; text-decoration-color: #00d7ff\">None</span>, <span style=\"color: #00af00; text-decoration-color: #00af00\">64</span>)                │               <span style=\"color: #00af00; text-decoration-color: #00af00\">0</span> │ dense_54[<span style=\"color: #00af00; text-decoration-color: #00af00\">0</span>][<span style=\"color: #00af00; text-decoration-color: #00af00\">0</span>]             │\n",
       "├───────────────────────────────┼───────────────────────────┼─────────────────┼────────────────────────────┤\n",
       "│ dense_55 (<span style=\"color: #0087ff; text-decoration-color: #0087ff\">Dense</span>)              │ (<span style=\"color: #00d7ff; text-decoration-color: #00d7ff\">None</span>, <span style=\"color: #00af00; text-decoration-color: #00af00\">32</span>)                │           <span style=\"color: #00af00; text-decoration-color: #00af00\">2,080</span> │ dropout_6[<span style=\"color: #00af00; text-decoration-color: #00af00\">0</span>][<span style=\"color: #00af00; text-decoration-color: #00af00\">0</span>]            │\n",
       "├───────────────────────────────┼───────────────────────────┼─────────────────┼────────────────────────────┤\n",
       "│ dropout_7 (<span style=\"color: #0087ff; text-decoration-color: #0087ff\">Dropout</span>)           │ (<span style=\"color: #00d7ff; text-decoration-color: #00d7ff\">None</span>, <span style=\"color: #00af00; text-decoration-color: #00af00\">32</span>)                │               <span style=\"color: #00af00; text-decoration-color: #00af00\">0</span> │ dense_55[<span style=\"color: #00af00; text-decoration-color: #00af00\">0</span>][<span style=\"color: #00af00; text-decoration-color: #00af00\">0</span>]             │\n",
       "├───────────────────────────────┼───────────────────────────┼─────────────────┼────────────────────────────┤\n",
       "│ dense_56 (<span style=\"color: #0087ff; text-decoration-color: #0087ff\">Dense</span>)              │ (<span style=\"color: #00d7ff; text-decoration-color: #00d7ff\">None</span>, <span style=\"color: #00af00; text-decoration-color: #00af00\">16</span>)                │             <span style=\"color: #00af00; text-decoration-color: #00af00\">528</span> │ dropout_7[<span style=\"color: #00af00; text-decoration-color: #00af00\">0</span>][<span style=\"color: #00af00; text-decoration-color: #00af00\">0</span>]            │\n",
       "├───────────────────────────────┼───────────────────────────┼─────────────────┼────────────────────────────┤\n",
       "│ dropout_8 (<span style=\"color: #0087ff; text-decoration-color: #0087ff\">Dropout</span>)           │ (<span style=\"color: #00d7ff; text-decoration-color: #00d7ff\">None</span>, <span style=\"color: #00af00; text-decoration-color: #00af00\">16</span>)                │               <span style=\"color: #00af00; text-decoration-color: #00af00\">0</span> │ dense_56[<span style=\"color: #00af00; text-decoration-color: #00af00\">0</span>][<span style=\"color: #00af00; text-decoration-color: #00af00\">0</span>]             │\n",
       "├───────────────────────────────┼───────────────────────────┼─────────────────┼────────────────────────────┤\n",
       "│ ck_output (<span style=\"color: #0087ff; text-decoration-color: #0087ff\">Dense</span>)             │ (<span style=\"color: #00d7ff; text-decoration-color: #00d7ff\">None</span>, <span style=\"color: #00af00; text-decoration-color: #00af00\">1</span>)                 │              <span style=\"color: #00af00; text-decoration-color: #00af00\">17</span> │ dropout_8[<span style=\"color: #00af00; text-decoration-color: #00af00\">0</span>][<span style=\"color: #00af00; text-decoration-color: #00af00\">0</span>]            │\n",
       "├───────────────────────────────┼───────────────────────────┼─────────────────┼────────────────────────────┤\n",
       "│ concatenate_14 (<span style=\"color: #0087ff; text-decoration-color: #0087ff\">Concatenate</span>)  │ (<span style=\"color: #00d7ff; text-decoration-color: #00d7ff\">None</span>, <span style=\"color: #00af00; text-decoration-color: #00af00\">11</span>)                │               <span style=\"color: #00af00; text-decoration-color: #00af00\">0</span> │ input_layer_4[<span style=\"color: #00af00; text-decoration-color: #00af00\">0</span>][<span style=\"color: #00af00; text-decoration-color: #00af00\">0</span>],       │\n",
       "│                               │                           │                 │ th_output[<span style=\"color: #00af00; text-decoration-color: #00af00\">0</span>][<span style=\"color: #00af00; text-decoration-color: #00af00\">0</span>],           │\n",
       "│                               │                           │                 │ qt_output[<span style=\"color: #00af00; text-decoration-color: #00af00\">0</span>][<span style=\"color: #00af00; text-decoration-color: #00af00\">0</span>],           │\n",
       "│                               │                           │                 │ ck_output[<span style=\"color: #00af00; text-decoration-color: #00af00\">0</span>][<span style=\"color: #00af00; text-decoration-color: #00af00\">0</span>]            │\n",
       "├───────────────────────────────┼───────────────────────────┼─────────────────┼────────────────────────────┤\n",
       "│ dense_57 (<span style=\"color: #0087ff; text-decoration-color: #0087ff\">Dense</span>)              │ (<span style=\"color: #00d7ff; text-decoration-color: #00d7ff\">None</span>, <span style=\"color: #00af00; text-decoration-color: #00af00\">64</span>)                │             <span style=\"color: #00af00; text-decoration-color: #00af00\">768</span> │ concatenate_14[<span style=\"color: #00af00; text-decoration-color: #00af00\">0</span>][<span style=\"color: #00af00; text-decoration-color: #00af00\">0</span>]       │\n",
       "├───────────────────────────────┼───────────────────────────┼─────────────────┼────────────────────────────┤\n",
       "│ dropout_9 (<span style=\"color: #0087ff; text-decoration-color: #0087ff\">Dropout</span>)           │ (<span style=\"color: #00d7ff; text-decoration-color: #00d7ff\">None</span>, <span style=\"color: #00af00; text-decoration-color: #00af00\">64</span>)                │               <span style=\"color: #00af00; text-decoration-color: #00af00\">0</span> │ dense_57[<span style=\"color: #00af00; text-decoration-color: #00af00\">0</span>][<span style=\"color: #00af00; text-decoration-color: #00af00\">0</span>]             │\n",
       "├───────────────────────────────┼───────────────────────────┼─────────────────┼────────────────────────────┤\n",
       "│ dense_58 (<span style=\"color: #0087ff; text-decoration-color: #0087ff\">Dense</span>)              │ (<span style=\"color: #00d7ff; text-decoration-color: #00d7ff\">None</span>, <span style=\"color: #00af00; text-decoration-color: #00af00\">32</span>)                │           <span style=\"color: #00af00; text-decoration-color: #00af00\">2,080</span> │ dropout_9[<span style=\"color: #00af00; text-decoration-color: #00af00\">0</span>][<span style=\"color: #00af00; text-decoration-color: #00af00\">0</span>]            │\n",
       "├───────────────────────────────┼───────────────────────────┼─────────────────┼────────────────────────────┤\n",
       "│ dropout_10 (<span style=\"color: #0087ff; text-decoration-color: #0087ff\">Dropout</span>)          │ (<span style=\"color: #00d7ff; text-decoration-color: #00d7ff\">None</span>, <span style=\"color: #00af00; text-decoration-color: #00af00\">32</span>)                │               <span style=\"color: #00af00; text-decoration-color: #00af00\">0</span> │ dense_58[<span style=\"color: #00af00; text-decoration-color: #00af00\">0</span>][<span style=\"color: #00af00; text-decoration-color: #00af00\">0</span>]             │\n",
       "├───────────────────────────────┼───────────────────────────┼─────────────────┼────────────────────────────┤\n",
       "│ dense_59 (<span style=\"color: #0087ff; text-decoration-color: #0087ff\">Dense</span>)              │ (<span style=\"color: #00d7ff; text-decoration-color: #00d7ff\">None</span>, <span style=\"color: #00af00; text-decoration-color: #00af00\">16</span>)                │             <span style=\"color: #00af00; text-decoration-color: #00af00\">528</span> │ dropout_10[<span style=\"color: #00af00; text-decoration-color: #00af00\">0</span>][<span style=\"color: #00af00; text-decoration-color: #00af00\">0</span>]           │\n",
       "├───────────────────────────────┼───────────────────────────┼─────────────────┼────────────────────────────┤\n",
       "│ dropout_11 (<span style=\"color: #0087ff; text-decoration-color: #0087ff\">Dropout</span>)          │ (<span style=\"color: #00d7ff; text-decoration-color: #00d7ff\">None</span>, <span style=\"color: #00af00; text-decoration-color: #00af00\">16</span>)                │               <span style=\"color: #00af00; text-decoration-color: #00af00\">0</span> │ dense_59[<span style=\"color: #00af00; text-decoration-color: #00af00\">0</span>][<span style=\"color: #00af00; text-decoration-color: #00af00\">0</span>]             │\n",
       "├───────────────────────────────┼───────────────────────────┼─────────────────┼────────────────────────────┤\n",
       "│ tbtl_output (<span style=\"color: #0087ff; text-decoration-color: #0087ff\">Dense</span>)           │ (<span style=\"color: #00d7ff; text-decoration-color: #00d7ff\">None</span>, <span style=\"color: #00af00; text-decoration-color: #00af00\">1</span>)                 │              <span style=\"color: #00af00; text-decoration-color: #00af00\">17</span> │ dropout_11[<span style=\"color: #00af00; text-decoration-color: #00af00\">0</span>][<span style=\"color: #00af00; text-decoration-color: #00af00\">0</span>]           │\n",
       "└───────────────────────────────┴───────────────────────────┴─────────────────┴────────────────────────────┘\n",
       "</pre>\n"
      ],
      "text/plain": [
       "┏━━━━━━━━━━━━━━━━━━━━━━━━━━━━━━━┳━━━━━━━━━━━━━━━━━━━━━━━━━━━┳━━━━━━━━━━━━━━━━━┳━━━━━━━━━━━━━━━━━━━━━━━━━━━━┓\n",
       "┃\u001b[1m \u001b[0m\u001b[1mLayer (type)                 \u001b[0m\u001b[1m \u001b[0m┃\u001b[1m \u001b[0m\u001b[1mOutput Shape             \u001b[0m\u001b[1m \u001b[0m┃\u001b[1m \u001b[0m\u001b[1m        Param #\u001b[0m\u001b[1m \u001b[0m┃\u001b[1m \u001b[0m\u001b[1mConnected to              \u001b[0m\u001b[1m \u001b[0m┃\n",
       "┡━━━━━━━━━━━━━━━━━━━━━━━━━━━━━━━╇━━━━━━━━━━━━━━━━━━━━━━━━━━━╇━━━━━━━━━━━━━━━━━╇━━━━━━━━━━━━━━━━━━━━━━━━━━━━┩\n",
       "│ input_layer_4 (\u001b[38;5;33mInputLayer\u001b[0m)    │ (\u001b[38;5;45mNone\u001b[0m, \u001b[38;5;34m8\u001b[0m)                 │               \u001b[38;5;34m0\u001b[0m │ -                          │\n",
       "├───────────────────────────────┼───────────────────────────┼─────────────────┼────────────────────────────┤\n",
       "│ dense_48 (\u001b[38;5;33mDense\u001b[0m)              │ (\u001b[38;5;45mNone\u001b[0m, \u001b[38;5;34m64\u001b[0m)                │             \u001b[38;5;34m576\u001b[0m │ input_layer_4[\u001b[38;5;34m0\u001b[0m][\u001b[38;5;34m0\u001b[0m]        │\n",
       "├───────────────────────────────┼───────────────────────────┼─────────────────┼────────────────────────────┤\n",
       "│ dropout (\u001b[38;5;33mDropout\u001b[0m)             │ (\u001b[38;5;45mNone\u001b[0m, \u001b[38;5;34m64\u001b[0m)                │               \u001b[38;5;34m0\u001b[0m │ dense_48[\u001b[38;5;34m0\u001b[0m][\u001b[38;5;34m0\u001b[0m]             │\n",
       "├───────────────────────────────┼───────────────────────────┼─────────────────┼────────────────────────────┤\n",
       "│ dense_49 (\u001b[38;5;33mDense\u001b[0m)              │ (\u001b[38;5;45mNone\u001b[0m, \u001b[38;5;34m32\u001b[0m)                │           \u001b[38;5;34m2,080\u001b[0m │ dropout[\u001b[38;5;34m0\u001b[0m][\u001b[38;5;34m0\u001b[0m]              │\n",
       "├───────────────────────────────┼───────────────────────────┼─────────────────┼────────────────────────────┤\n",
       "│ dropout_1 (\u001b[38;5;33mDropout\u001b[0m)           │ (\u001b[38;5;45mNone\u001b[0m, \u001b[38;5;34m32\u001b[0m)                │               \u001b[38;5;34m0\u001b[0m │ dense_49[\u001b[38;5;34m0\u001b[0m][\u001b[38;5;34m0\u001b[0m]             │\n",
       "├───────────────────────────────┼───────────────────────────┼─────────────────┼────────────────────────────┤\n",
       "│ dense_50 (\u001b[38;5;33mDense\u001b[0m)              │ (\u001b[38;5;45mNone\u001b[0m, \u001b[38;5;34m16\u001b[0m)                │             \u001b[38;5;34m528\u001b[0m │ dropout_1[\u001b[38;5;34m0\u001b[0m][\u001b[38;5;34m0\u001b[0m]            │\n",
       "├───────────────────────────────┼───────────────────────────┼─────────────────┼────────────────────────────┤\n",
       "│ dropout_2 (\u001b[38;5;33mDropout\u001b[0m)           │ (\u001b[38;5;45mNone\u001b[0m, \u001b[38;5;34m16\u001b[0m)                │               \u001b[38;5;34m0\u001b[0m │ dense_50[\u001b[38;5;34m0\u001b[0m][\u001b[38;5;34m0\u001b[0m]             │\n",
       "├───────────────────────────────┼───────────────────────────┼─────────────────┼────────────────────────────┤\n",
       "│ th_output (\u001b[38;5;33mDense\u001b[0m)             │ (\u001b[38;5;45mNone\u001b[0m, \u001b[38;5;34m1\u001b[0m)                 │              \u001b[38;5;34m17\u001b[0m │ dropout_2[\u001b[38;5;34m0\u001b[0m][\u001b[38;5;34m0\u001b[0m]            │\n",
       "├───────────────────────────────┼───────────────────────────┼─────────────────┼────────────────────────────┤\n",
       "│ concatenate_12 (\u001b[38;5;33mConcatenate\u001b[0m)  │ (\u001b[38;5;45mNone\u001b[0m, \u001b[38;5;34m9\u001b[0m)                 │               \u001b[38;5;34m0\u001b[0m │ input_layer_4[\u001b[38;5;34m0\u001b[0m][\u001b[38;5;34m0\u001b[0m],       │\n",
       "│                               │                           │                 │ th_output[\u001b[38;5;34m0\u001b[0m][\u001b[38;5;34m0\u001b[0m]            │\n",
       "├───────────────────────────────┼───────────────────────────┼─────────────────┼────────────────────────────┤\n",
       "│ dense_51 (\u001b[38;5;33mDense\u001b[0m)              │ (\u001b[38;5;45mNone\u001b[0m, \u001b[38;5;34m64\u001b[0m)                │             \u001b[38;5;34m640\u001b[0m │ concatenate_12[\u001b[38;5;34m0\u001b[0m][\u001b[38;5;34m0\u001b[0m]       │\n",
       "├───────────────────────────────┼───────────────────────────┼─────────────────┼────────────────────────────┤\n",
       "│ dropout_3 (\u001b[38;5;33mDropout\u001b[0m)           │ (\u001b[38;5;45mNone\u001b[0m, \u001b[38;5;34m64\u001b[0m)                │               \u001b[38;5;34m0\u001b[0m │ dense_51[\u001b[38;5;34m0\u001b[0m][\u001b[38;5;34m0\u001b[0m]             │\n",
       "├───────────────────────────────┼───────────────────────────┼─────────────────┼────────────────────────────┤\n",
       "│ dense_52 (\u001b[38;5;33mDense\u001b[0m)              │ (\u001b[38;5;45mNone\u001b[0m, \u001b[38;5;34m32\u001b[0m)                │           \u001b[38;5;34m2,080\u001b[0m │ dropout_3[\u001b[38;5;34m0\u001b[0m][\u001b[38;5;34m0\u001b[0m]            │\n",
       "├───────────────────────────────┼───────────────────────────┼─────────────────┼────────────────────────────┤\n",
       "│ dropout_4 (\u001b[38;5;33mDropout\u001b[0m)           │ (\u001b[38;5;45mNone\u001b[0m, \u001b[38;5;34m32\u001b[0m)                │               \u001b[38;5;34m0\u001b[0m │ dense_52[\u001b[38;5;34m0\u001b[0m][\u001b[38;5;34m0\u001b[0m]             │\n",
       "├───────────────────────────────┼───────────────────────────┼─────────────────┼────────────────────────────┤\n",
       "│ dense_53 (\u001b[38;5;33mDense\u001b[0m)              │ (\u001b[38;5;45mNone\u001b[0m, \u001b[38;5;34m16\u001b[0m)                │             \u001b[38;5;34m528\u001b[0m │ dropout_4[\u001b[38;5;34m0\u001b[0m][\u001b[38;5;34m0\u001b[0m]            │\n",
       "├───────────────────────────────┼───────────────────────────┼─────────────────┼────────────────────────────┤\n",
       "│ dropout_5 (\u001b[38;5;33mDropout\u001b[0m)           │ (\u001b[38;5;45mNone\u001b[0m, \u001b[38;5;34m16\u001b[0m)                │               \u001b[38;5;34m0\u001b[0m │ dense_53[\u001b[38;5;34m0\u001b[0m][\u001b[38;5;34m0\u001b[0m]             │\n",
       "├───────────────────────────────┼───────────────────────────┼─────────────────┼────────────────────────────┤\n",
       "│ qt_output (\u001b[38;5;33mDense\u001b[0m)             │ (\u001b[38;5;45mNone\u001b[0m, \u001b[38;5;34m1\u001b[0m)                 │              \u001b[38;5;34m17\u001b[0m │ dropout_5[\u001b[38;5;34m0\u001b[0m][\u001b[38;5;34m0\u001b[0m]            │\n",
       "├───────────────────────────────┼───────────────────────────┼─────────────────┼────────────────────────────┤\n",
       "│ concatenate_13 (\u001b[38;5;33mConcatenate\u001b[0m)  │ (\u001b[38;5;45mNone\u001b[0m, \u001b[38;5;34m9\u001b[0m)                 │               \u001b[38;5;34m0\u001b[0m │ input_layer_4[\u001b[38;5;34m0\u001b[0m][\u001b[38;5;34m0\u001b[0m],       │\n",
       "│                               │                           │                 │ qt_output[\u001b[38;5;34m0\u001b[0m][\u001b[38;5;34m0\u001b[0m]            │\n",
       "├───────────────────────────────┼───────────────────────────┼─────────────────┼────────────────────────────┤\n",
       "│ dense_54 (\u001b[38;5;33mDense\u001b[0m)              │ (\u001b[38;5;45mNone\u001b[0m, \u001b[38;5;34m64\u001b[0m)                │             \u001b[38;5;34m640\u001b[0m │ concatenate_13[\u001b[38;5;34m0\u001b[0m][\u001b[38;5;34m0\u001b[0m]       │\n",
       "├───────────────────────────────┼───────────────────────────┼─────────────────┼────────────────────────────┤\n",
       "│ dropout_6 (\u001b[38;5;33mDropout\u001b[0m)           │ (\u001b[38;5;45mNone\u001b[0m, \u001b[38;5;34m64\u001b[0m)                │               \u001b[38;5;34m0\u001b[0m │ dense_54[\u001b[38;5;34m0\u001b[0m][\u001b[38;5;34m0\u001b[0m]             │\n",
       "├───────────────────────────────┼───────────────────────────┼─────────────────┼────────────────────────────┤\n",
       "│ dense_55 (\u001b[38;5;33mDense\u001b[0m)              │ (\u001b[38;5;45mNone\u001b[0m, \u001b[38;5;34m32\u001b[0m)                │           \u001b[38;5;34m2,080\u001b[0m │ dropout_6[\u001b[38;5;34m0\u001b[0m][\u001b[38;5;34m0\u001b[0m]            │\n",
       "├───────────────────────────────┼───────────────────────────┼─────────────────┼────────────────────────────┤\n",
       "│ dropout_7 (\u001b[38;5;33mDropout\u001b[0m)           │ (\u001b[38;5;45mNone\u001b[0m, \u001b[38;5;34m32\u001b[0m)                │               \u001b[38;5;34m0\u001b[0m │ dense_55[\u001b[38;5;34m0\u001b[0m][\u001b[38;5;34m0\u001b[0m]             │\n",
       "├───────────────────────────────┼───────────────────────────┼─────────────────┼────────────────────────────┤\n",
       "│ dense_56 (\u001b[38;5;33mDense\u001b[0m)              │ (\u001b[38;5;45mNone\u001b[0m, \u001b[38;5;34m16\u001b[0m)                │             \u001b[38;5;34m528\u001b[0m │ dropout_7[\u001b[38;5;34m0\u001b[0m][\u001b[38;5;34m0\u001b[0m]            │\n",
       "├───────────────────────────────┼───────────────────────────┼─────────────────┼────────────────────────────┤\n",
       "│ dropout_8 (\u001b[38;5;33mDropout\u001b[0m)           │ (\u001b[38;5;45mNone\u001b[0m, \u001b[38;5;34m16\u001b[0m)                │               \u001b[38;5;34m0\u001b[0m │ dense_56[\u001b[38;5;34m0\u001b[0m][\u001b[38;5;34m0\u001b[0m]             │\n",
       "├───────────────────────────────┼───────────────────────────┼─────────────────┼────────────────────────────┤\n",
       "│ ck_output (\u001b[38;5;33mDense\u001b[0m)             │ (\u001b[38;5;45mNone\u001b[0m, \u001b[38;5;34m1\u001b[0m)                 │              \u001b[38;5;34m17\u001b[0m │ dropout_8[\u001b[38;5;34m0\u001b[0m][\u001b[38;5;34m0\u001b[0m]            │\n",
       "├───────────────────────────────┼───────────────────────────┼─────────────────┼────────────────────────────┤\n",
       "│ concatenate_14 (\u001b[38;5;33mConcatenate\u001b[0m)  │ (\u001b[38;5;45mNone\u001b[0m, \u001b[38;5;34m11\u001b[0m)                │               \u001b[38;5;34m0\u001b[0m │ input_layer_4[\u001b[38;5;34m0\u001b[0m][\u001b[38;5;34m0\u001b[0m],       │\n",
       "│                               │                           │                 │ th_output[\u001b[38;5;34m0\u001b[0m][\u001b[38;5;34m0\u001b[0m],           │\n",
       "│                               │                           │                 │ qt_output[\u001b[38;5;34m0\u001b[0m][\u001b[38;5;34m0\u001b[0m],           │\n",
       "│                               │                           │                 │ ck_output[\u001b[38;5;34m0\u001b[0m][\u001b[38;5;34m0\u001b[0m]            │\n",
       "├───────────────────────────────┼───────────────────────────┼─────────────────┼────────────────────────────┤\n",
       "│ dense_57 (\u001b[38;5;33mDense\u001b[0m)              │ (\u001b[38;5;45mNone\u001b[0m, \u001b[38;5;34m64\u001b[0m)                │             \u001b[38;5;34m768\u001b[0m │ concatenate_14[\u001b[38;5;34m0\u001b[0m][\u001b[38;5;34m0\u001b[0m]       │\n",
       "├───────────────────────────────┼───────────────────────────┼─────────────────┼────────────────────────────┤\n",
       "│ dropout_9 (\u001b[38;5;33mDropout\u001b[0m)           │ (\u001b[38;5;45mNone\u001b[0m, \u001b[38;5;34m64\u001b[0m)                │               \u001b[38;5;34m0\u001b[0m │ dense_57[\u001b[38;5;34m0\u001b[0m][\u001b[38;5;34m0\u001b[0m]             │\n",
       "├───────────────────────────────┼───────────────────────────┼─────────────────┼────────────────────────────┤\n",
       "│ dense_58 (\u001b[38;5;33mDense\u001b[0m)              │ (\u001b[38;5;45mNone\u001b[0m, \u001b[38;5;34m32\u001b[0m)                │           \u001b[38;5;34m2,080\u001b[0m │ dropout_9[\u001b[38;5;34m0\u001b[0m][\u001b[38;5;34m0\u001b[0m]            │\n",
       "├───────────────────────────────┼───────────────────────────┼─────────────────┼────────────────────────────┤\n",
       "│ dropout_10 (\u001b[38;5;33mDropout\u001b[0m)          │ (\u001b[38;5;45mNone\u001b[0m, \u001b[38;5;34m32\u001b[0m)                │               \u001b[38;5;34m0\u001b[0m │ dense_58[\u001b[38;5;34m0\u001b[0m][\u001b[38;5;34m0\u001b[0m]             │\n",
       "├───────────────────────────────┼───────────────────────────┼─────────────────┼────────────────────────────┤\n",
       "│ dense_59 (\u001b[38;5;33mDense\u001b[0m)              │ (\u001b[38;5;45mNone\u001b[0m, \u001b[38;5;34m16\u001b[0m)                │             \u001b[38;5;34m528\u001b[0m │ dropout_10[\u001b[38;5;34m0\u001b[0m][\u001b[38;5;34m0\u001b[0m]           │\n",
       "├───────────────────────────────┼───────────────────────────┼─────────────────┼────────────────────────────┤\n",
       "│ dropout_11 (\u001b[38;5;33mDropout\u001b[0m)          │ (\u001b[38;5;45mNone\u001b[0m, \u001b[38;5;34m16\u001b[0m)                │               \u001b[38;5;34m0\u001b[0m │ dense_59[\u001b[38;5;34m0\u001b[0m][\u001b[38;5;34m0\u001b[0m]             │\n",
       "├───────────────────────────────┼───────────────────────────┼─────────────────┼────────────────────────────┤\n",
       "│ tbtl_output (\u001b[38;5;33mDense\u001b[0m)           │ (\u001b[38;5;45mNone\u001b[0m, \u001b[38;5;34m1\u001b[0m)                 │              \u001b[38;5;34m17\u001b[0m │ dropout_11[\u001b[38;5;34m0\u001b[0m][\u001b[38;5;34m0\u001b[0m]           │\n",
       "└───────────────────────────────┴───────────────────────────┴─────────────────┴────────────────────────────┘\n"
      ]
     },
     "metadata": {},
     "output_type": "display_data"
    },
    {
     "data": {
      "text/html": [
       "<pre style=\"white-space:pre;overflow-x:auto;line-height:normal;font-family:Menlo,'DejaVu Sans Mono',consolas,'Courier New',monospace\"><span style=\"font-weight: bold\"> Total params: </span><span style=\"color: #00af00; text-decoration-color: #00af00\">13,124</span> (51.27 KB)\n",
       "</pre>\n"
      ],
      "text/plain": [
       "\u001b[1m Total params: \u001b[0m\u001b[38;5;34m13,124\u001b[0m (51.27 KB)\n"
      ]
     },
     "metadata": {},
     "output_type": "display_data"
    },
    {
     "data": {
      "text/html": [
       "<pre style=\"white-space:pre;overflow-x:auto;line-height:normal;font-family:Menlo,'DejaVu Sans Mono',consolas,'Courier New',monospace\"><span style=\"font-weight: bold\"> Trainable params: </span><span style=\"color: #00af00; text-decoration-color: #00af00\">13,124</span> (51.27 KB)\n",
       "</pre>\n"
      ],
      "text/plain": [
       "\u001b[1m Trainable params: \u001b[0m\u001b[38;5;34m13,124\u001b[0m (51.27 KB)\n"
      ]
     },
     "metadata": {},
     "output_type": "display_data"
    },
    {
     "data": {
      "text/html": [
       "<pre style=\"white-space:pre;overflow-x:auto;line-height:normal;font-family:Menlo,'DejaVu Sans Mono',consolas,'Courier New',monospace\"><span style=\"font-weight: bold\"> Non-trainable params: </span><span style=\"color: #00af00; text-decoration-color: #00af00\">0</span> (0.00 B)\n",
       "</pre>\n"
      ],
      "text/plain": [
       "\u001b[1m Non-trainable params: \u001b[0m\u001b[38;5;34m0\u001b[0m (0.00 B)\n"
      ]
     },
     "metadata": {},
     "output_type": "display_data"
    }
   ],
   "source": [
    "lr = 5e-3\n",
    "optimizer = Adam(learning_rate=lr)\n",
    "model.compile(optimizer='adam', loss='mse', metrics=['mae', 'mae', 'mae', 'mae'])\n",
    "# Callback để giảm learning rate khi loss không giảm\n",
    "reduce_lr = ReduceLROnPlateau(\n",
    "    monitor='val_loss', \n",
    "    factor=0.001, \n",
    "    patience=5, \n",
    "    min_lr=1e-10,\n",
    "    verbose=1\n",
    ")\n",
    "# Callback để lưu lại mô hình tốt nhất\n",
    "checkpoint = ModelCheckpoint(\n",
    "    './best_model.keras', \n",
    "    monitor='val_loss', \n",
    "    save_best_only=True, \n",
    "    mode='min',\n",
    "    verbose=0\n",
    ")\n",
    "custom_verbose = CustomVerboseCallback(verbose_interval=50)\n",
    "model.summary()"
   ]
  },
  {
   "cell_type": "code",
   "execution_count": 101,
   "id": "b868ae02-c8e0-4e77-8480-aa6b291118d7",
   "metadata": {},
   "outputs": [
    {
     "name": "stdout",
     "output_type": "stream",
     "text": [
      "Epoch 50: loss = 74.05001831054688, val_loss = 49.74238967895508\n",
      "\n",
      "Epoch 100: ReduceLROnPlateau reducing learning rate to 1.0000000474974512e-06.\n",
      "Epoch 100: loss = 57.07969284057617, val_loss = 34.98076248168945\n",
      "\n",
      "Epoch 105: ReduceLROnPlateau reducing learning rate to 9.999999974752428e-10.\n",
      "\n",
      "Epoch 110: ReduceLROnPlateau reducing learning rate to 1e-10.\n",
      "Epoch 150: loss = 56.1301155090332, val_loss = 34.9835090637207\n",
      "Epoch 200: loss = 55.79230499267578, val_loss = 34.9835090637207\n",
      "Epoch 250: loss = 56.573036193847656, val_loss = 34.9835090637207\n",
      "Epoch 300: loss = 56.59642791748047, val_loss = 34.9835090637207\n",
      "Epoch 350: loss = 54.08073806762695, val_loss = 34.9835090637207\n",
      "Epoch 400: loss = 56.687461853027344, val_loss = 34.983516693115234\n",
      "Epoch 450: loss = 56.66482162475586, val_loss = 34.9835090637207\n",
      "Epoch 500: loss = 57.09687805175781, val_loss = 34.9835090637207\n"
     ]
    },
    {
     "data": {
      "text/plain": [
       "<keras.src.callbacks.history.History at 0x2625c66f700>"
      ]
     },
     "execution_count": 101,
     "metadata": {},
     "output_type": "execute_result"
    }
   ],
   "source": [
    "model.fit(\n",
    "    X_train, \n",
    "    {'th_output': y_th_train, 'qt_output': y_qt_train, 'ck_output': y_ck_train, 'tbtl_output': y_tbtl_train},\n",
    "    validation_data=(X_test, {'th_output': y_th_test, 'qt_output': y_qt_test, 'ck_output': y_ck_test, 'tbtl_output': y_tbtl_test}),\n",
    "    epochs=500,\n",
    "    batch_size=64,\n",
    "    verbose=0,\n",
    "    callbacks=[reduce_lr, checkpoint, custom_verbose]\n",
    ")"
   ]
  },
  {
   "cell_type": "markdown",
   "id": "82fa36da-f288-4f76-b73e-c541c3574cd7",
   "metadata": {},
   "source": [
    "### **Evaluation**"
   ]
  },
  {
   "cell_type": "code",
   "execution_count": 102,
   "id": "eb6b6a50-6579-45f9-8efa-b725cd53db73",
   "metadata": {
    "tags": []
   },
   "outputs": [
    {
     "name": "stdout",
     "output_type": "stream",
     "text": [
      "\u001b[1m10/10\u001b[0m \u001b[32m━━━━━━━━━━━━━━━━━━━━\u001b[0m\u001b[37m\u001b[0m \u001b[1m0s\u001b[0m 14ms/step\n",
      "R2 for TH: 0.4563363191081081\n",
      "R2 for QT: 0.5838463709020459\n",
      "R2 for CK: 0.318029134749342\n",
      "R2 for TBTL: 0.6964720730139733\n"
     ]
    }
   ],
   "source": [
    "# Load mô hình tốt nhất\n",
    "best_model = tf.keras.models.load_model('./best_model.keras')\n",
    "# Dự đoán trên tập kiểm tra\n",
    "predictions = model.predict(X_test)\n",
    "\n",
    "# Đánh giá mô hình bằng thang đo R^2\n",
    "r2_th = r2_score(y_th_test, predictions[0])\n",
    "r2_qt = r2_score(y_qt_test, predictions[1])\n",
    "r2_ck = r2_score(y_ck_test, predictions[2])\n",
    "r2_tbtl = r2_score(y_tbtl_test, predictions[3])\n",
    "\n",
    "print(f\"R2 for TH: {r2_th}\")\n",
    "print(f\"R2 for QT: {r2_qt}\")\n",
    "print(f\"R2 for CK: {r2_ck}\")\n",
    "print(f\"R2 for TBTL: {r2_tbtl}\")"
   ]
  },
  {
   "cell_type": "markdown",
   "id": "f9644242-20e9-460a-907f-80bc81418041",
   "metadata": {},
   "source": [
    "# **Predict**"
   ]
  },
  {
   "cell_type": "code",
   "execution_count": 103,
   "id": "66065420-d3bd-4fbd-864e-3849ab011d4e",
   "metadata": {
    "tags": []
   },
   "outputs": [
    {
     "name": "stderr",
     "output_type": "stream",
     "text": [
      "C:\\Users\\ADMIN\\AppData\\Local\\Temp\\ipykernel_26804\\2850856171.py:9: FutureWarning: A value is trying to be set on a copy of a DataFrame or Series through chained assignment using an inplace method.\n",
      "The behavior will change in pandas 3.0. This inplace method will never work because the intermediate object on which we are setting values always behaves as a copy.\n",
      "\n",
      "For example, when doing 'df[col].method(value, inplace=True)', try using 'df.method({col: value}, inplace=True)' or df[col] = df[col].method(value) instead, to perform the operation inplace on the original object.\n",
      "\n",
      "\n",
      "  df1[col].replace(np.inf, max_value + epsilon, inplace=True)\n",
      "C:\\Users\\ADMIN\\AppData\\Local\\Temp\\ipykernel_26804\\2850856171.py:10: FutureWarning: A value is trying to be set on a copy of a DataFrame or Series through chained assignment using an inplace method.\n",
      "The behavior will change in pandas 3.0. This inplace method will never work because the intermediate object on which we are setting values always behaves as a copy.\n",
      "\n",
      "For example, when doing 'df[col].method(value, inplace=True)', try using 'df.method({col: value}, inplace=True)' or df[col] = df[col].method(value) instead, to perform the operation inplace on the original object.\n",
      "\n",
      "\n",
      "  df1[col].replace(-np.inf, min_value - epsilon, inplace=True)\n"
     ]
    },
    {
     "name": "stdout",
     "output_type": "stream",
     "text": [
      "\u001b[1m22/22\u001b[0m \u001b[32m━━━━━━━━━━━━━━━━━━━━\u001b[0m\u001b[37m\u001b[0m \u001b[1m0s\u001b[0m 1ms/step \n"
     ]
    }
   ],
   "source": [
    "df1 = pd.read_csv('./Test.csv')\n",
    "epsilon = 1e+2  # hoặc giá trị khác bạn muốn\n",
    "# Thay thế các giá trị inf và -inf\n",
    "for col in df1.columns:\n",
    "    if df1[col].dtype in [np.float64, np.float32, np.int64, np.int32]:\n",
    "        max_value = df1.loc[df1[col] != np.inf, col].max()\n",
    "        min_value = df1.loc[df1[col] != -np.inf, col].min()\n",
    "        \n",
    "        df1[col].replace(np.inf, max_value + epsilon, inplace=True)\n",
    "        df1[col].replace(-np.inf, min_value - epsilon, inplace=True)\n",
    "users = df1['username']\n",
    "features_test = df1[['Submissions', 'Compilation Errors', 'Number of Languages', 'Done Problems', 'Done Assignments', 'Max Runtimes', 'Max Memories', 'Average Scores']].values\n",
    "# features_test = df1[['Submissions', 'Number of Languages', 'Done Problems', 'Done Assignments']].values\n",
    "scaled_features_test = scaler.transform(features_test)\n",
    "scaled_features_test = features_test\n",
    "\n",
    "best_model = tf.keras.models.load_model('./best_model.keras')\n",
    "qt = []\n",
    "th = []\n",
    "ck = []\n",
    "tbtl = []\n",
    "predictions = model.predict(scaled_features_test)\n",
    "for i in range(users.shape[0]):\n",
    "    th.append([users[i], predictions[0][i][0]])\n",
    "    qt.append([users[i], predictions[1][i][0]])\n",
    "    ck.append([users[i], predictions[2][i][0]])\n",
    "    tbtl.append([users[i], predictions[3][i][0]])\n",
    "th = np.array(th)\n",
    "qt = np.array(qt)\n",
    "ck = np.array(ck)\n",
    "tbtl = np.array(tbtl)"
   ]
  },
  {
   "cell_type": "code",
   "execution_count": 104,
   "id": "2847664b-d4b3-4553-8d52-ff8cafce098a",
   "metadata": {
    "tags": []
   },
   "outputs": [],
   "source": [
    "import csv\n",
    "with open('./th.csv', mode='w', newline='') as file:\n",
    "    writer = csv.writer(file)\n",
    "    for row in th:\n",
    "        writer.writerow(row)\n",
    "with open('./qt.csv', mode='w', newline='') as file:\n",
    "    writer = csv.writer(file)\n",
    "    for row in qt:\n",
    "        writer.writerow(row)\n",
    "with open('./ck.csv', mode='w', newline='') as file:\n",
    "    writer = csv.writer(file)\n",
    "    for row in ck:\n",
    "        writer.writerow(row)\n",
    "with open('./tbtl.csv', mode='w', newline='') as file:\n",
    "    writer = csv.writer(file)\n",
    "    for row in tbtl:\n",
    "        writer.writerow(row)"
   ]
  },
  {
   "cell_type": "code",
   "execution_count": 105,
   "id": "ceefe82b-a7fd-47f1-a479-ea518b157b92",
   "metadata": {
    "tags": []
   },
   "outputs": [
    {
     "name": "stderr",
     "output_type": "stream",
     "text": [
      "C:\\Users\\ADMIN\\AppData\\Local\\Temp\\ipykernel_26804\\2542090384.py:9: FutureWarning: A value is trying to be set on a copy of a DataFrame or Series through chained assignment using an inplace method.\n",
      "The behavior will change in pandas 3.0. This inplace method will never work because the intermediate object on which we are setting values always behaves as a copy.\n",
      "\n",
      "For example, when doing 'df[col].method(value, inplace=True)', try using 'df.method({col: value}, inplace=True)' or df[col] = df[col].method(value) instead, to perform the operation inplace on the original object.\n",
      "\n",
      "\n",
      "  df1[col].replace(np.inf, max_value + epsilon, inplace=True)\n",
      "C:\\Users\\ADMIN\\AppData\\Local\\Temp\\ipykernel_26804\\2542090384.py:10: FutureWarning: A value is trying to be set on a copy of a DataFrame or Series through chained assignment using an inplace method.\n",
      "The behavior will change in pandas 3.0. This inplace method will never work because the intermediate object on which we are setting values always behaves as a copy.\n",
      "\n",
      "For example, when doing 'df[col].method(value, inplace=True)', try using 'df.method({col: value}, inplace=True)' or df[col] = df[col].method(value) instead, to perform the operation inplace on the original object.\n",
      "\n",
      "\n",
      "  df1[col].replace(-np.inf, min_value - epsilon, inplace=True)\n"
     ]
    }
   ],
   "source": [
    "df1 = pd.read_csv('./Test.csv')\n",
    "epsilon = 1e+2  # hoặc giá trị khác bạn muốn\n",
    "# Thay thế các giá trị inf và -inf\n",
    "for col in df1.columns:\n",
    "    if df1[col].dtype in [np.float64, np.float32, np.int64, np.int32]:\n",
    "        max_value = df1.loc[df1[col] != np.inf, col].max()\n",
    "        min_value = df1.loc[df1[col] != -np.inf, col].min()\n",
    "        \n",
    "        df1[col].replace(np.inf, max_value + epsilon, inplace=True)\n",
    "        df1[col].replace(-np.inf, min_value - epsilon, inplace=True)\n",
    "users = df1['username']\n",
    "features_test = df1[['Submissions', 'Compilation Errors', 'Number of Languages', 'Done Problems', 'Done Assignments', 'Max Runtimes', 'Max Memories', 'Average Scores']].values\n",
    "# features_test = df1[['Submissions', 'Number of Languages', 'Done Problems', 'Done Assignments']].values\n",
    "scaled_features_test = scaler.transform(features_test)\n",
    "scaled_features_test = features_test\n",
    "\n",
    "qt_pred = []\n",
    "th_pred = []\n",
    "ck_pred = []\n",
    "tbtl_pred = []\n",
    "\n",
    "th = rf_model_TH.predict(scaled_features_test)\n",
    "\n",
    "scaled_features_test_qt = []\n",
    "for i in range(len(th)):\n",
    "    tmp = list(scaled_features_test[i])\n",
    "    tmp.append(th[i])\n",
    "    scaled_features_test_qt.append(tmp)\n",
    "qt = rf_model_QT.predict(scaled_features_test_qt)\n",
    "\n",
    "scaled_features_test_ck = []\n",
    "for i in range(len(qt)):\n",
    "    tmp = list(scaled_features_test_qt[i])\n",
    "    tmp.append(qt[i])\n",
    "    scaled_features_test_ck.append(tmp)\n",
    "ck = rf_model_CK.predict(scaled_features_test_ck)\n",
    "\n",
    "scaled_features_test_tbtl = []\n",
    "for i in range(len(ck)):\n",
    "    tmp = list(scaled_features_test_ck[i])\n",
    "    tmp.append(ck[i])\n",
    "    scaled_features_test_tbtl.append(tmp)\n",
    "tbtl = rf_model_TBTL.predict(scaled_features_test_tbtl)\n",
    "\n",
    "for i in range(users.shape[0]):\n",
    "    th_pred.append([users[i], th[i]])\n",
    "    qt_pred.append([users[i], qt[i]])\n",
    "    ck_pred.append([users[i], ck[i]])\n",
    "    tbtl_pred.append([users[i], tbtl[i]])\n",
    "th_pred = np.array(th_pred)\n",
    "qt_pred = np.array(qt_pred)\n",
    "ck_pred = np.array(ck_pred)\n",
    "tbtl_pred = np.array(tbtl_pred)"
   ]
  },
  {
   "cell_type": "code",
   "execution_count": 106,
   "id": "554b3a1a-2302-438c-81c3-3472cfe559c7",
   "metadata": {
    "tags": []
   },
   "outputs": [],
   "source": [
    "import csv\n",
    "with open('./rf_th.csv', mode='w', newline='') as file:\n",
    "    writer = csv.writer(file)\n",
    "    for row in th_pred:\n",
    "        writer.writerow(row)\n",
    "with open('./rf_qt.csv', mode='w', newline='') as file:\n",
    "    writer = csv.writer(file)\n",
    "    for row in qt_pred:\n",
    "        writer.writerow(row)\n",
    "with open('./rf_ck.csv', mode='w', newline='') as file:\n",
    "    writer = csv.writer(file)\n",
    "    for row in ck_pred:\n",
    "        writer.writerow(row)\n",
    "with open('./rf_tbtl.csv', mode='w', newline='') as file:\n",
    "    writer = csv.writer(file)\n",
    "    for row in tbtl_pred:\n",
    "        writer.writerow(row)"
   ]
  },
  {
   "cell_type": "code",
   "execution_count": 73,
   "id": "50799c46-7756-46c6-b28c-05753923ed76",
   "metadata": {
    "tags": []
   },
   "outputs": [],
   "source": []
  }
 ],
 "metadata": {
  "kernelspec": {
   "display_name": "Python 3 (ipykernel)",
   "language": "python",
   "name": "python3"
  },
  "language_info": {
   "codemirror_mode": {
    "name": "ipython",
    "version": 3
   },
   "file_extension": ".py",
   "mimetype": "text/x-python",
   "name": "python",
   "nbconvert_exporter": "python",
   "pygments_lexer": "ipython3",
   "version": "3.10.7"
  }
 },
 "nbformat": 4,
 "nbformat_minor": 5
}
