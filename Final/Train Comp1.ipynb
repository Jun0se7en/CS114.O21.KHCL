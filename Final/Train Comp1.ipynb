{
 "cells": [
  {
   "cell_type": "code",
   "execution_count": 5,
   "id": "b0595739-e364-4113-a73c-cae78290fe41",
   "metadata": {
    "tags": []
   },
   "outputs": [],
   "source": [
    "from keras.datasets import mnist\n",
    "import pandas as pd\n",
    "import numpy as np\n",
    "import math\n",
    "import random\n",
    "import matplotlib.pyplot as plt\n",
    "from sklearn import metrics\n",
    "from sklearn.preprocessing import LabelEncoder\n",
    "from sklearn import svm\n",
    "from sklearn.metrics import classification_report, confusion_matrix\n",
    "from sklearn.model_selection import cross_val_score\n",
    "import seaborn as sbn\n",
    "import sklearn.metrics as sm\n",
    "import pickle\n",
    "from sklearn.naive_bayes import GaussianNB as nb\n",
    "from sklearn.neighbors import KNeighborsClassifier as knn\n",
    "from sklearn.linear_model import LogisticRegression as lr\n",
    "import warnings\n",
    "import os\n",
    "import cv2\n",
    "import tensorflow as tf\n",
    "from tensorflow import keras\n",
    "from sklearn.preprocessing import LabelEncoder\n",
    "import keras\n",
    "from keras.models import Sequential\n",
    "from keras.callbacks import *\n",
    "from keras.layers import *\n",
    "from tensorflow.keras.preprocessing.image import ImageDataGenerator\n",
    "from keras.layers import Dense, Dropout, Activation, Flatten, Conv2D, MaxPooling2D\n",
    "from keras.callbacks import TensorBoard\n",
    "from keras.utils import to_categorical\n",
    "from keras.callbacks import ModelCheckpoint,EarlyStopping, ReduceLROnPlateau\n",
    "from tqdm import tqdm\n",
    "from skimage.filters import gabor\n",
    "from sklearn.preprocessing import StandardScaler\n",
    "\n",
    "# Tắt cảnh báo\n",
    "warnings.filterwarnings(\"ignore\")"
   ]
  },
  {
   "cell_type": "code",
   "execution_count": 6,
   "id": "32cde400-2a31-4e26-bebf-f0cfcbe21f43",
   "metadata": {
    "tags": []
   },
   "outputs": [],
   "source": [
    "def compute_gabor_features(image, orientations, scales):\n",
    "    gabor_features = []\n",
    "    for theta in orientations:\n",
    "        for sigma in scales:\n",
    "            real, imag = gabor(image, frequency=0.6, theta=theta, sigma_x=sigma, sigma_y=sigma)\n",
    "            gabor_features.append(np.mean(real))\n",
    "            gabor_features.append(np.std(real))\n",
    "    return gabor_features"
   ]
  },
  {
   "cell_type": "code",
   "execution_count": 7,
   "id": "f4a1a8f6-4c26-4d8d-8863-7ba2edfe116e",
   "metadata": {
    "tags": []
   },
   "outputs": [],
   "source": [
    "def compute_hsv_features(image):\n",
    "    hsv_image = cv2.cvtColor(image, cv2.COLOR_BGR2HSV)\n",
    "    h_mean = np.mean(hsv_image[:, :, 0])\n",
    "    h_std = np.std(hsv_image[:, :, 0])\n",
    "    s_mean = np.mean(hsv_image[:, :, 1])\n",
    "    s_std = np.std(hsv_image[:, :, 1])\n",
    "    v_mean = np.mean(hsv_image[:, :, 2])\n",
    "    v_std = np.std(hsv_image[:, :, 2])\n",
    "    return [h_mean, h_std, s_mean, s_std, v_mean, v_std]"
   ]
  },
  {
   "cell_type": "code",
   "execution_count": 8,
   "id": "0547cb82-d853-445c-a3df-aae572505663",
   "metadata": {
    "tags": []
   },
   "outputs": [],
   "source": [
    "def extract_features(image):\n",
    "    image = cv2.resize(image, (128, 128))\n",
    "    gray_image = cv2.cvtColor(image, cv2.COLOR_BGR2GRAY)\n",
    "    \n",
    "    # Define Gabor filter parameters\n",
    "    orientations = [0, np.pi/4, np.pi/2, 3*np.pi/4]\n",
    "    scales = [1, 2]\n",
    "    \n",
    "    # Compute Gabor features\n",
    "    gabor_features = compute_gabor_features(gray_image, orientations, scales)\n",
    "    \n",
    "    # Compute HSV color features\n",
    "    hsv_features = compute_hsv_features(image)\n",
    "    \n",
    "    # Combine features into a single feature vector\n",
    "    feature_vector = gabor_features + hsv_features\n",
    "    \n",
    "    return feature_vector"
   ]
  },
  {
   "cell_type": "code",
   "execution_count": 9,
   "id": "30feca93-d490-4f85-93a9-fc7da8fec6c5",
   "metadata": {
    "tags": []
   },
   "outputs": [
    {
     "name": "stderr",
     "output_type": "stream",
     "text": [
      "100%|████████████████████████████████████████████████████████████████████████| 240000/240000 [2:15:37<00:00, 29.49it/s]\n"
     ]
    }
   ],
   "source": [
    "train_X = []\n",
    "train_y = []\n",
    "with tqdm(total=len(os.listdir('./Dataset/train/'))) as pbar:\n",
    "    for i in os.listdir('./Dataset/train/'):\n",
    "        img = cv2.imread(f'./Dataset/train/{i}')\n",
    "        train_y.append(i.split('.')[0].split('_')[1])\n",
    "        train_X.append(extract_features(img))\n",
    "        pbar.update(1)\n",
    "train_X = np.array(train_X)\n",
    "train_y = np.array(train_y)"
   ]
  },
  {
   "cell_type": "code",
   "execution_count": 10,
   "id": "d8feceaf-d77d-40e2-a14c-440e678e5493",
   "metadata": {
    "tags": []
   },
   "outputs": [
    {
     "name": "stderr",
     "output_type": "stream",
     "text": [
      "100%|████████████████████████████████████████████████████████████████████████████| 40000/40000 [24:39<00:00, 27.03it/s]\n"
     ]
    }
   ],
   "source": [
    "test_X = []\n",
    "test_y = []\n",
    "with tqdm(total=len(os.listdir('./Dataset/test/'))) as pbar:\n",
    "    for i in os.listdir('./Dataset/test/'):\n",
    "        img = cv2.imread(f'./Dataset/test/{i}')\n",
    "        test_y.append(i.split('.')[0].split('_')[1])\n",
    "        test_X.append(extract_features(img))\n",
    "        pbar.update(1)\n",
    "test_X = np.array(test_X)\n",
    "test_y = np.array(test_y)"
   ]
  },
  {
   "cell_type": "code",
   "execution_count": 11,
   "id": "3f900555-5bf3-426e-8592-21e6e83a858b",
   "metadata": {},
   "outputs": [],
   "source": [
    "scaler = StandardScaler()\n",
    "train_X = scaler.fit_transform(train_X)\n",
    "test_X = scaler.transform(test_X)"
   ]
  },
  {
   "cell_type": "code",
   "execution_count": 12,
   "id": "4873b5ea-4659-413b-8085-9b8ac6b7dd00",
   "metadata": {
    "tags": []
   },
   "outputs": [],
   "source": [
    "import joblib"
   ]
  },
  {
   "cell_type": "code",
   "execution_count": 13,
   "id": "fe05af3c-313c-4e70-8a6f-550eda86d571",
   "metadata": {
    "tags": []
   },
   "outputs": [
    {
     "data": {
      "text/plain": [
       "['./scaler.pkl']"
      ]
     },
     "execution_count": 13,
     "metadata": {},
     "output_type": "execute_result"
    }
   ],
   "source": [
    "joblib.dump(scaler, './scaler.pkl')"
   ]
  },
  {
   "cell_type": "code",
   "execution_count": 14,
   "id": "b6df2a0c-c8c7-4379-9732-ef23cfd87f73",
   "metadata": {
    "tags": []
   },
   "outputs": [],
   "source": [
    "np.save('./trainX.npy', train_X)\n",
    "np.save('./testX.npy', test_X)\n",
    "np.save('./trainy.npy', train_y)\n",
    "np.save('./testy.npy', test_y)"
   ]
  },
  {
   "cell_type": "code",
   "execution_count": null,
   "id": "16955900-be26-4d48-be80-f85b8c2ef5ae",
   "metadata": {},
   "outputs": [],
   "source": []
  }
 ],
 "metadata": {
  "kernelspec": {
   "display_name": "Python 3 (ipykernel)",
   "language": "python",
   "name": "python3"
  },
  "language_info": {
   "codemirror_mode": {
    "name": "ipython",
    "version": 3
   },
   "file_extension": ".py",
   "mimetype": "text/x-python",
   "name": "python",
   "nbconvert_exporter": "python",
   "pygments_lexer": "ipython3",
   "version": "3.10.7"
  }
 },
 "nbformat": 4,
 "nbformat_minor": 5
}
